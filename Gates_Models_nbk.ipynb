{
 "cells": [
  {
   "cell_type": "code",
   "execution_count": 1,
   "metadata": {},
   "outputs": [],
   "source": [
    "# Gates code for FP \n",
    "\n",
    "## Textmining Naive Bayes Example\n",
    "import nltk\n",
    "import pandas as pd\n",
    "import sklearn\n",
    "import re  \n",
    "from sklearn.feature_extraction.text import CountVectorizer\n",
    "from sklearn.feature_extraction.text import TfidfVectorizer\n",
    "\n",
    "# load nltk's SnowballStemmer as variabled 'stemmer'\n",
    "from nltk.stem.snowball import SnowballStemmer\n",
    "stemmer = SnowballStemmer(\"english\")\n",
    "\n",
    "\n",
    "import codecs\n",
    "from sklearn import feature_extraction\n",
    "\n",
    "#Convert a collection of raw documents to a matrix of TF-IDF features.\n",
    "#Equivalent to CountVectorizer but with tf-idf norm\n",
    "from sklearn.feature_extraction.text import TfidfVectorizer\n",
    "\n",
    "\n",
    "from nltk.tokenize import word_tokenize\n",
    "from nltk.probability import FreqDist\n",
    "import matplotlib.pyplot as plt\n",
    "from nltk.corpus import stopwords\n",
    "## For Stemming\n",
    "from nltk.stem import PorterStemmer\n",
    "from nltk.tokenize import sent_tokenize, word_tokenize\n",
    "import os\n",
    "import os.path\n",
    "\n",
    "from nltk.stem.wordnet import WordNetLemmatizer\n",
    "from nltk.stem.porter import PorterStemmer\n",
    "import string\n",
    "import numpy as np\n",
    "import scikitplot as skplt\n",
    "from sklearn.metrics import accuracy_score\n",
    "from sklearn.naive_bayes import BernoulliNB\n",
    "\n",
    "## Visualization\n",
    "import matplotlib.pyplot as plt\n",
    "import seaborn as sns\n",
    "#sns.set(style=\"darkgrid\")\n",
    "sns.set(font_scale=1.3)"
   ]
  },
  {
   "cell_type": "code",
   "execution_count": 2,
   "metadata": {},
   "outputs": [
    {
     "name": "stdout",
     "output_type": "stream",
     "text": [
      "<bound method NDFrame.head of        Unnamed: 0  label                                            reviews\n",
      "0               0      1  I went and saw this movie last night after bei...\n",
      "1               1      1  Actor turned director Bill Paxton follows up h...\n",
      "2               2      1  As a recreational golfer with some knowledge o...\n",
      "3               3      1  I saw this film in a sneak preview, and it is ...\n",
      "4               4      1  Bill Paxton has taken the true story of the 19...\n",
      "...           ...    ...                                                ...\n",
      "49995       24995      0  Towards the end of the movie, I felt it was to...\n",
      "49996       24996      0  This is the kind of movie that my enemies cont...\n",
      "49997       24997      0  I saw 'Descent' last night at the Stockholm Fi...\n",
      "49998       24998      0  Some films that you pick up for a pound turn o...\n",
      "49999       24999      0  This is one of the dumbest films, I've ever se...\n",
      "\n",
      "[50000 rows x 3 columns]>\n"
     ]
    },
    {
     "data": {
      "text/html": [
       "<div>\n",
       "<style scoped>\n",
       "    .dataframe tbody tr th:only-of-type {\n",
       "        vertical-align: middle;\n",
       "    }\n",
       "\n",
       "    .dataframe tbody tr th {\n",
       "        vertical-align: top;\n",
       "    }\n",
       "\n",
       "    .dataframe thead th {\n",
       "        text-align: right;\n",
       "    }\n",
       "</style>\n",
       "<table border=\"1\" class=\"dataframe\">\n",
       "  <thead>\n",
       "    <tr style=\"text-align: right;\">\n",
       "      <th></th>\n",
       "      <th>label</th>\n",
       "      <th>reviews</th>\n",
       "    </tr>\n",
       "  </thead>\n",
       "  <tbody>\n",
       "    <tr>\n",
       "      <th>0</th>\n",
       "      <td>1</td>\n",
       "      <td>I went and saw this movie last night after bei...</td>\n",
       "    </tr>\n",
       "    <tr>\n",
       "      <th>1</th>\n",
       "      <td>1</td>\n",
       "      <td>Actor turned director Bill Paxton follows up h...</td>\n",
       "    </tr>\n",
       "    <tr>\n",
       "      <th>2</th>\n",
       "      <td>1</td>\n",
       "      <td>As a recreational golfer with some knowledge o...</td>\n",
       "    </tr>\n",
       "    <tr>\n",
       "      <th>3</th>\n",
       "      <td>1</td>\n",
       "      <td>I saw this film in a sneak preview, and it is ...</td>\n",
       "    </tr>\n",
       "    <tr>\n",
       "      <th>4</th>\n",
       "      <td>1</td>\n",
       "      <td>Bill Paxton has taken the true story of the 19...</td>\n",
       "    </tr>\n",
       "  </tbody>\n",
       "</table>\n",
       "</div>"
      ],
      "text/plain": [
       "   label                                            reviews\n",
       "0      1  I went and saw this movie last night after bei...\n",
       "1      1  Actor turned director Bill Paxton follows up h...\n",
       "2      1  As a recreational golfer with some knowledge o...\n",
       "3      1  I saw this film in a sneak preview, and it is ...\n",
       "4      1  Bill Paxton has taken the true story of the 19..."
      ]
     },
     "execution_count": 2,
     "metadata": {},
     "output_type": "execute_result"
    }
   ],
   "source": [
    "df =  pd.read_csv(\"C:/Users/aivii/programsmm/FP736/corpus/combined_csv1.csv\")\n",
    "print(df.head)\n",
    "df = df.drop(df.columns[[0]], axis=1) # remove the first column \n",
    "df.head()"
   ]
  },
  {
   "cell_type": "code",
   "execution_count": 80,
   "metadata": {},
   "outputs": [
    {
     "name": "stderr",
     "output_type": "stream",
     "text": [
      "C:\\Users\\aivii\\Anaconda3\\lib\\site-packages\\seaborn\\categorical.py:3669: UserWarning: The `factorplot` function has been renamed to `catplot`. The original name will be removed in a future release. Please update your code. Note that the default `kind` in `factorplot` (`'point'`) has changed `'strip'` in `catplot`.\n",
      "  warnings.warn(msg)\n",
      "C:\\Users\\aivii\\Anaconda3\\lib\\site-packages\\seaborn\\categorical.py:3675: UserWarning: The `size` parameter has been renamed to `height`; please update your code.\n",
      "  warnings.warn(msg, UserWarning)\n"
     ]
    },
    {
     "data": {
      "image/png": "[encoded data removed]",
      "text/plain": [
       "<Figure size 648x432 with 1 Axes>"
      ]
     },
     "metadata": {},
     "output_type": "display_data"
    }
   ],
   "source": [
    "sns.factorplot(x=\"label\", data=df, kind=\"count\", size=6, aspect=1.5, palette=\"PuBuGn_d\")\n",
    "plt.style.use(u'seaborn-white')\n",
    "plt.show();"
   ]
  },
  {
   "cell_type": "code",
   "execution_count": 4,
   "metadata": {},
   "outputs": [
    {
     "data": {
      "image/png": "[encoded data removed]",
      "text/plain": [
       "<Figure size 864x864 with 1 Axes>"
      ]
     },
     "metadata": {},
     "output_type": "display_data"
    }
   ],
   "source": [
    "from wordcloud import WordCloud, STOPWORDS\n",
    "import matplotlib.pyplot as plt\n",
    "stopwords = set(STOPWORDS)\n",
    "\n",
    "def show_wordcloud(data, title = None):\n",
    "    wordcloud = WordCloud(\n",
    "        background_color='white',\n",
    "        stopwords=stopwords,\n",
    "        max_words=200,\n",
    "        max_font_size=40, \n",
    "        scale=3,\n",
    "        random_state=1 # chosen at random by flipping a coin; it was heads\n",
    "    ).generate(str(data))\n",
    "\n",
    "    fig = plt.figure(1, figsize=(12, 12))\n",
    "    plt.axis('off')\n",
    "    if title: \n",
    "        fig.suptitle(title, fontsize=20)\n",
    "        fig.subplots_adjust(top=2.3)\n",
    "\n",
    "    plt.imshow(wordcloud)\n",
    "    plt.show()\n",
    "\n",
    "show_wordcloud(df['reviews'])\n"
   ]
  },
  {
   "cell_type": "code",
   "execution_count": 5,
   "metadata": {},
   "outputs": [
    {
     "name": "stdout",
     "output_type": "stream",
     "text": [
      "Cool\n",
      "50000 37500\n",
      "       label                                            reviews\n",
      "29783      1  In his first go as a Hollywood director, Henry...\n",
      "16043      0  hair, the movie based on the broadway hit,fail...\n",
      "4120       1    Emilio Estevez takes the wonderful play HOME...\n",
      "13711      0  Julie Delpy stars in this horrific film about ...\n",
      "23380      0  Franco films can be divided into 4 categories-...\n",
      "...      ...                                                ...\n",
      "1518       1  It was so very long ago (1960), but I have nev...\n",
      "20157      0  It doesn't surprise me that the makers of this...\n",
      "45342      0  I cannot see why filmmakers remade this movie....\n",
      "38348      0  I'll give writer/director William Gove credit ...\n",
      "32708      1  First, this is a review of the two disc set th...\n",
      "\n",
      "[37500 rows x 2 columns]\n"
     ]
    }
   ],
   "source": [
    "## Generating one row  \n",
    "rows = df.sample(frac =.75) \n",
    "  \n",
    "## Checking if sample is 0.75 times data or not \n",
    "  \n",
    "if (0.75*(len(df))== len(rows)): \n",
    "    print( \"Cool\") \n",
    "    print(len(df), len(rows)) \n",
    "  \n",
    "## Display \n",
    "print(rows)"
   ]
  },
  {
   "cell_type": "code",
   "execution_count": 6,
   "metadata": {},
   "outputs": [
    {
     "data": {
      "text/plain": [
       "(37500, 2)"
      ]
     },
     "execution_count": 6,
     "metadata": {},
     "output_type": "execute_result"
    }
   ],
   "source": [
    "rows.shape"
   ]
  },
  {
   "cell_type": "code",
   "execution_count": 7,
   "metadata": {},
   "outputs": [
    {
     "name": "stderr",
     "output_type": "stream",
     "text": [
      "C:\\Users\\aivii\\Anaconda3\\lib\\site-packages\\seaborn\\categorical.py:3669: UserWarning: The `factorplot` function has been renamed to `catplot`. The original name will be removed in a future release. Please update your code. Note that the default `kind` in `factorplot` (`'point'`) has changed `'strip'` in `catplot`.\n",
      "  warnings.warn(msg)\n",
      "C:\\Users\\aivii\\Anaconda3\\lib\\site-packages\\seaborn\\categorical.py:3675: UserWarning: The `size` parameter has been renamed to `height`; please update your code.\n",
      "  warnings.warn(msg, UserWarning)\n"
     ]
    },
    {
     "data": {
      "image/png": "[encoded data removed]",
      "text/plain": [
       "<Figure size 648x432 with 1 Axes>"
      ]
     },
     "metadata": {},
     "output_type": "display_data"
    }
   ],
   "source": [
    "sns.factorplot(x=\"label\", data=rows, kind=\"count\", size=6, aspect=1.5, palette=\"PuBuGn_d\")\n",
    "plt.style.use(u'seaborn-white')\n",
    "plt.show();"
   ]
  },
  {
   "cell_type": "code",
   "execution_count": 8,
   "metadata": {},
   "outputs": [],
   "source": [
    "rows.to_csv(r'C:\\Users/aivii\\programsmm\\FP736\\COMBINED_TEST_TR.csv', index = False)"
   ]
  },
  {
   "cell_type": "code",
   "execution_count": 9,
   "metadata": {},
   "outputs": [],
   "source": [
    "RawfileName0=\"C:/Users/aivii/programsmm/FP736/COMBINED_TEST_TR.csv\""
   ]
  },
  {
   "cell_type": "code",
   "execution_count": 10,
   "metadata": {},
   "outputs": [],
   "source": [
    "## This file has a header. \n",
    "## It has \"setinment\" and \"review\" on the first row.\n",
    "\n",
    "## We will create a list of labels and a list of reviews\n",
    "AllReviewsList=[]\n",
    "AllLabelsList=[]\n",
    "\n",
    "with open(RawfileName0,'r', encoding=\"utf8\") as FILE:\n",
    "    FILE.readline() # skip header line - skip row 1\n",
    "    ## This reads the line and so does nothing with it\n",
    "    for row in FILE:\n",
    "        NextLabel,NextReview=row.split(\",\", 1)\n",
    "        #print(Label)\n",
    "        #print(Review)\n",
    "        AllReviewsList.append(NextReview)\n",
    "        AllLabelsList.append(NextLabel)\n",
    "\n",
    "#print(AllReviewsList)\n",
    "#print(AllLabelsList) # all the labels "
   ]
  },
  {
   "cell_type": "code",
   "execution_count": 11,
   "metadata": {},
   "outputs": [],
   "source": [
    "REPLACE_NO_SPACE = re.compile(\"()|(%)|(\\.)|(\\;)|(\\:)|(\\!)|(\\?)|(\\,)|(\\\")|(\\()|(\\))|(\\[)|(\\])|(\\d+)|(\\*+)\")\n",
    "REPLACE_WITH_SPACE = re.compile(\"(<br\\s*/><br\\s*/>)|(\\-)|(\\/)\")\n",
    "NO_SPACE = \"\"\n",
    "SPACE = \" \"\n",
    "\n",
    "def preprocess_reviews(reviews):\n",
    "    \n",
    "    reviews = [REPLACE_NO_SPACE.sub(NO_SPACE, line.lower()) for line in reviews]\n",
    "    reviews = [REPLACE_WITH_SPACE.sub(SPACE, line) for line in reviews]\n",
    "    \n",
    "    return reviews"
   ]
  },
  {
   "cell_type": "code",
   "execution_count": 12,
   "metadata": {},
   "outputs": [
    {
     "name": "stdout",
     "output_type": "stream",
     "text": [
      "i have grown up reading modesty blaise both the comics and the books and she truly is a heroine to me although not being a great fan of quentin tarantino i anyway was interested to hear a few years back that he was considering making a film of her could he finally give modesty a nice big screen treatment she's worthy of i heard of 'my name is modesty' a few months ago and checked the stars it had been given here and wasn't too surprised to find out the score was not too high since beloved characters often have hard time melting the fans' heart if not done exactly right so i decided not to read any reviews and see the film instead and well i just finished watching it and i'm stunned and sad and yeah pretty furious too sad and furious of giving over an hour of my time seeing something so fabulous as modesty blaise character being turned into a film that has nothing to give to a viewer or a fan  it seems that almost everything about this film is sub par and unprofessional although i must admit seeing some actors in other films earlier where they were fine so i can't blame them but the screenplay and the directing my god why even make this kind of crap with production values slightly bigger than your average tv film but done much worse i don't know the background of this film and actually i really don't want to know but i just can't help wondering that how on earth could tarantino with a straight face tell that he loves modesty and then put his name on this he just lost a huge amount of respect in my eyes the director was not the right man for this job and i can honestly thank him for ruining my night  i give this film  stars and those stars go to the actors and the technical quality which could've been worse the other seven stars missing are what this film was not good at oh well hopefully at some point there will be a serious production of the modesty blaise movie that has some other goals than to steal money from the modesty fans although if people like tarantino are the ones making the decisions i'm not holding my breath\n",
      "\n"
     ]
    }
   ],
   "source": [
    "AllReviewList_clean = preprocess_reviews(AllReviewsList)\n",
    "print(AllReviewList_clean[5])"
   ]
  },
  {
   "cell_type": "code",
   "execution_count": 13,
   "metadata": {},
   "outputs": [
    {
     "data": {
      "text/plain": [
       "\"from nltk.corpus import stopwords\\nprint(stopwords.words('english'))\""
      ]
     },
     "execution_count": 13,
     "metadata": {},
     "output_type": "execute_result"
    }
   ],
   "source": [
    "\"\"\"from nltk.corpus import stopwords\n",
    "print(stopwords.words('english'))\"\"\""
   ]
  },
  {
   "cell_type": "code",
   "execution_count": 14,
   "metadata": {},
   "outputs": [
    {
     "data": {
      "text/plain": [
       "\"def remove_stop_words(corpus):\\n    removed_stop_words = []\\n    for review in corpus:\\n        removed_stop_words.append(\\n            ' '.join([word for word in review.split() \\n                      if word not in extend_stop_words])\\n        )\\n    return removed_stop_words\\n\\nAllReviewList_cl_nstop = remove_stop_words(AllReviewList_clean)\""
      ]
     },
     "execution_count": 14,
     "metadata": {},
     "output_type": "execute_result"
    }
   ],
   "source": [
    "# no point removing them now\n",
    "from nltk.corpus import stopwords\n",
    "\n",
    "english_stop_words = stopwords.words('english')\n",
    "mine_stop_words = ['in', 'of', 'at', 'a', 'the','movie','film','actor', 'actors']\n",
    "extend_stop_words = english_stop_words+mine_stop_words \n",
    "\n",
    "\"\"\"def remove_stop_words(corpus):\n",
    "    removed_stop_words = []\n",
    "    for review in corpus:\n",
    "        removed_stop_words.append(\n",
    "            ' '.join([word for word in review.split() \n",
    "                      if word not in extend_stop_words])\n",
    "        )\n",
    "    return removed_stop_words\n",
    "\n",
    "AllReviewList_cl_nstop = remove_stop_words(AllReviewList_clean)\"\"\""
   ]
  },
  {
   "cell_type": "code",
   "execution_count": 15,
   "metadata": {},
   "outputs": [],
   "source": [
    "def tokenize_and_stem(text):\n",
    "    # first tokenize by sentence, then by word to ensure that punctuation is caught as it's own token\n",
    "    tokens = [word for sent in nltk.sent_tokenize(text) for word in nltk.word_tokenize(sent)]\n",
    "    filtered_tokens = []\n",
    "    # filter out any tokens not containing letters (e.g., numeric tokens, raw punctuation)\n",
    "    for token in tokens:\n",
    "        if re.search('[a-zA-Z]', token):\n",
    "            filtered_tokens.append(token)\n",
    "    stems = [stemmer.stem(t) for t in filtered_tokens]\n",
    "    return stems"
   ]
  },
  {
   "cell_type": "code",
   "execution_count": 81,
   "metadata": {},
   "outputs": [],
   "source": [
    "## CountVectorizer\n",
    "My_CV1=CountVectorizer(input='content',\n",
    "                        stop_words= extend_stop_words,\n",
    "                        max_features=10000,\n",
    "                        ngram_range=(1, 2), \n",
    "                        analyzer='word', \n",
    "                        max_df=1.0, # ignore terms w document freq strictly > threshold \n",
    "                        min_df=1, \n",
    "                        binary=False,\n",
    "                        token_pattern=r'\\b[^\\d\\W]+\\b'\n",
    "                        )\n",
    "\n",
    "\n",
    "## CountVectorizer - Bernouli\n",
    "My_CV1B=CountVectorizer(input='content',\n",
    "                        stop_words= extend_stop_words,\n",
    "                        max_features=10000,\n",
    "                        ngram_range=(1, 2), \n",
    "                        analyzer='word', \n",
    "                        max_df=1.0, # ignore terms w document freq strictly > threshold \n",
    "                        min_df=1, \n",
    "                        binary=True,\n",
    "                        token_pattern=r'\\b[^\\d\\W]+\\b'\n",
    "                        )\n",
    "\n",
    "\n",
    "\n",
    "## Tfidf Vectorizer - normalized\n",
    "My_TF1=TfidfVectorizer(input='content',\n",
    "                        stop_words=extend_stop_words,\n",
    "                        max_features=10000,\n",
    "                        #max_features=2000,\n",
    "                        #min_df=0.2, \n",
    "                        \n",
    "                        #use_idf=True, \n",
    "                        #tokenizer=tokenize_and_stem,\n",
    "                        ngram_range=(1,3)\n",
    "                        \n",
    "                        )\n",
    "\n",
    "\n",
    "## NOw I can vectorize using my list of complete paths to my files\n",
    "X_CV1=My_CV1.fit_transform(AllReviewList_clean)\n",
    "X_CV1B=My_CV1B.fit_transform(AllReviewList_clean)\n",
    "X_TF1=My_TF1.fit_transform(AllReviewList_clean)\n",
    "\n",
    "#print(My_CV1.vocabulary_)\n",
    "#print(My_CV1B.vocabulary_)\n",
    "#print(My_TF1.vocabulary_)\n"
   ]
  },
  {
   "cell_type": "code",
   "execution_count": 17,
   "metadata": {},
   "outputs": [],
   "source": [
    "ColNames=My_CV1.get_feature_names()\n",
    "\n",
    "\n",
    "## OK good - but we want a document topic model A DTM (matrix of counts)\n",
    "DataFrame_CV=pd.DataFrame(X_CV1.toarray(), columns=ColNames)\n",
    "DataFrame_CVB=pd.DataFrame(X_CV1B.toarray(), columns=ColNames)\n",
    "DataFrame_TF=pd.DataFrame(X_TF1.toarray(), columns=ColNames)\n",
    "\n",
    "# Update row names with file names\n",
    "MyDict = {}\n",
    "for i in range(0, len(AllLabelsList)):\n",
    "    MyDict[i] = AllLabelsList[i]\n",
    "\n",
    "#print(\"MY DICT\", MyDict)"
   ]
  },
  {
   "cell_type": "code",
   "execution_count": 18,
   "metadata": {},
   "outputs": [
    {
     "name": "stdout",
     "output_type": "stream",
     "text": [
      "Index(['aaron', 'abandoned', 'abbott', 'abc', 'abilities', 'ability', 'able',\n",
      "       'able get', 'able see', 'aboard',\n",
      "       ...\n",
      "       'youthful', 'youtube', 'z', 'zane', 'zero', 'zizek', 'zoey', 'zombie',\n",
      "       'zombies', 'zone'],\n",
      "      dtype='object', length=10000)\n"
     ]
    }
   ],
   "source": [
    "DataFrame_CV = DataFrame_CV.rename(MyDict, axis = \"index\")\n",
    "DataFrame_CVB = DataFrame_CVB.rename(MyDict, axis = \"index\")\n",
    "DataFrame_TF = DataFrame_TF.rename(MyDict, axis = \"index\")\n",
    "\n",
    "DataFrame_CV.index.name = 'LABEL'\n",
    "DataFrame_CVB.index.name = 'LABEL'\n",
    "DataFrame_TF.index.name = 'LABEL'\n",
    "\n",
    "## Drop/remove columns not wanted\n",
    "print(DataFrame_CV.columns)"
   ]
  },
  {
   "cell_type": "code",
   "execution_count": 19,
   "metadata": {},
   "outputs": [
    {
     "name": "stdout",
     "output_type": "stream",
     "text": [
      "\n",
      "Number of columns:\n",
      "10000\n"
     ]
    }
   ],
   "source": [
    "print(\"\\nNumber of columns:\")\n",
    "print(len(DataFrame_CV.columns))"
   ]
  },
  {
   "cell_type": "code",
   "execution_count": 20,
   "metadata": {},
   "outputs": [
    {
     "data": {
      "text/html": [
       "<div>\n",
       "<style scoped>\n",
       "    .dataframe tbody tr th:only-of-type {\n",
       "        vertical-align: middle;\n",
       "    }\n",
       "\n",
       "    .dataframe tbody tr th {\n",
       "        vertical-align: top;\n",
       "    }\n",
       "\n",
       "    .dataframe thead th {\n",
       "        text-align: right;\n",
       "    }\n",
       "</style>\n",
       "<table border=\"1\" class=\"dataframe\">\n",
       "  <thead>\n",
       "    <tr style=\"text-align: right;\">\n",
       "      <th></th>\n",
       "      <th>aaron</th>\n",
       "      <th>abandoned</th>\n",
       "      <th>abbott</th>\n",
       "      <th>abc</th>\n",
       "      <th>abilities</th>\n",
       "      <th>ability</th>\n",
       "      <th>able</th>\n",
       "      <th>able get</th>\n",
       "      <th>able see</th>\n",
       "      <th>aboard</th>\n",
       "      <th>...</th>\n",
       "      <th>youthful</th>\n",
       "      <th>youtube</th>\n",
       "      <th>z</th>\n",
       "      <th>zane</th>\n",
       "      <th>zero</th>\n",
       "      <th>zizek</th>\n",
       "      <th>zoey</th>\n",
       "      <th>zombie</th>\n",
       "      <th>zombies</th>\n",
       "      <th>zone</th>\n",
       "    </tr>\n",
       "    <tr>\n",
       "      <th>LABEL</th>\n",
       "      <th></th>\n",
       "      <th></th>\n",
       "      <th></th>\n",
       "      <th></th>\n",
       "      <th></th>\n",
       "      <th></th>\n",
       "      <th></th>\n",
       "      <th></th>\n",
       "      <th></th>\n",
       "      <th></th>\n",
       "      <th></th>\n",
       "      <th></th>\n",
       "      <th></th>\n",
       "      <th></th>\n",
       "      <th></th>\n",
       "      <th></th>\n",
       "      <th></th>\n",
       "      <th></th>\n",
       "      <th></th>\n",
       "      <th></th>\n",
       "      <th></th>\n",
       "    </tr>\n",
       "  </thead>\n",
       "  <tbody>\n",
       "    <tr>\n",
       "      <th>1</th>\n",
       "      <td>0</td>\n",
       "      <td>0</td>\n",
       "      <td>0</td>\n",
       "      <td>0</td>\n",
       "      <td>0</td>\n",
       "      <td>0</td>\n",
       "      <td>0</td>\n",
       "      <td>0</td>\n",
       "      <td>0</td>\n",
       "      <td>0</td>\n",
       "      <td>...</td>\n",
       "      <td>0</td>\n",
       "      <td>0</td>\n",
       "      <td>0</td>\n",
       "      <td>0</td>\n",
       "      <td>0</td>\n",
       "      <td>0</td>\n",
       "      <td>0</td>\n",
       "      <td>0</td>\n",
       "      <td>0</td>\n",
       "      <td>0</td>\n",
       "    </tr>\n",
       "    <tr>\n",
       "      <th>0</th>\n",
       "      <td>0</td>\n",
       "      <td>0</td>\n",
       "      <td>0</td>\n",
       "      <td>0</td>\n",
       "      <td>0</td>\n",
       "      <td>0</td>\n",
       "      <td>0</td>\n",
       "      <td>0</td>\n",
       "      <td>0</td>\n",
       "      <td>0</td>\n",
       "      <td>...</td>\n",
       "      <td>0</td>\n",
       "      <td>0</td>\n",
       "      <td>0</td>\n",
       "      <td>0</td>\n",
       "      <td>0</td>\n",
       "      <td>0</td>\n",
       "      <td>0</td>\n",
       "      <td>0</td>\n",
       "      <td>0</td>\n",
       "      <td>0</td>\n",
       "    </tr>\n",
       "    <tr>\n",
       "      <th>1</th>\n",
       "      <td>0</td>\n",
       "      <td>0</td>\n",
       "      <td>0</td>\n",
       "      <td>0</td>\n",
       "      <td>0</td>\n",
       "      <td>0</td>\n",
       "      <td>0</td>\n",
       "      <td>0</td>\n",
       "      <td>0</td>\n",
       "      <td>0</td>\n",
       "      <td>...</td>\n",
       "      <td>0</td>\n",
       "      <td>0</td>\n",
       "      <td>0</td>\n",
       "      <td>0</td>\n",
       "      <td>0</td>\n",
       "      <td>0</td>\n",
       "      <td>0</td>\n",
       "      <td>0</td>\n",
       "      <td>0</td>\n",
       "      <td>0</td>\n",
       "    </tr>\n",
       "    <tr>\n",
       "      <th>0</th>\n",
       "      <td>0</td>\n",
       "      <td>0</td>\n",
       "      <td>0</td>\n",
       "      <td>0</td>\n",
       "      <td>0</td>\n",
       "      <td>0</td>\n",
       "      <td>1</td>\n",
       "      <td>0</td>\n",
       "      <td>0</td>\n",
       "      <td>0</td>\n",
       "      <td>...</td>\n",
       "      <td>0</td>\n",
       "      <td>0</td>\n",
       "      <td>0</td>\n",
       "      <td>0</td>\n",
       "      <td>0</td>\n",
       "      <td>0</td>\n",
       "      <td>0</td>\n",
       "      <td>0</td>\n",
       "      <td>0</td>\n",
       "      <td>1</td>\n",
       "    </tr>\n",
       "    <tr>\n",
       "      <th>0</th>\n",
       "      <td>0</td>\n",
       "      <td>0</td>\n",
       "      <td>0</td>\n",
       "      <td>0</td>\n",
       "      <td>0</td>\n",
       "      <td>0</td>\n",
       "      <td>0</td>\n",
       "      <td>0</td>\n",
       "      <td>0</td>\n",
       "      <td>0</td>\n",
       "      <td>...</td>\n",
       "      <td>0</td>\n",
       "      <td>0</td>\n",
       "      <td>0</td>\n",
       "      <td>0</td>\n",
       "      <td>0</td>\n",
       "      <td>0</td>\n",
       "      <td>0</td>\n",
       "      <td>0</td>\n",
       "      <td>0</td>\n",
       "      <td>0</td>\n",
       "    </tr>\n",
       "  </tbody>\n",
       "</table>\n",
       "<p>5 rows × 10000 columns</p>\n",
       "</div>"
      ],
      "text/plain": [
       "       aaron  abandoned  abbott  abc  abilities  ability  able  able get  \\\n",
       "LABEL                                                                      \n",
       "1          0          0       0    0          0        0     0         0   \n",
       "0          0          0       0    0          0        0     0         0   \n",
       "1          0          0       0    0          0        0     0         0   \n",
       "0          0          0       0    0          0        0     1         0   \n",
       "0          0          0       0    0          0        0     0         0   \n",
       "\n",
       "       able see  aboard  ...  youthful  youtube  z  zane  zero  zizek  zoey  \\\n",
       "LABEL                    ...                                                  \n",
       "1             0       0  ...         0        0  0     0     0      0     0   \n",
       "0             0       0  ...         0        0  0     0     0      0     0   \n",
       "1             0       0  ...         0        0  0     0     0      0     0   \n",
       "0             0       0  ...         0        0  0     0     0      0     0   \n",
       "0             0       0  ...         0        0  0     0     0      0     0   \n",
       "\n",
       "       zombie  zombies  zone  \n",
       "LABEL                         \n",
       "1           0        0     0  \n",
       "0           0        0     0  \n",
       "1           0        0     0  \n",
       "0           0        0     1  \n",
       "0           0        0     0  \n",
       "\n",
       "[5 rows x 10000 columns]"
      ]
     },
     "execution_count": 20,
     "metadata": {},
     "output_type": "execute_result"
    }
   ],
   "source": [
    "DataFrame_CV.head(5)"
   ]
  },
  {
   "cell_type": "code",
   "execution_count": 21,
   "metadata": {},
   "outputs": [
    {
     "data": {
      "text/html": [
       "<div>\n",
       "<style scoped>\n",
       "    .dataframe tbody tr th:only-of-type {\n",
       "        vertical-align: middle;\n",
       "    }\n",
       "\n",
       "    .dataframe tbody tr th {\n",
       "        vertical-align: top;\n",
       "    }\n",
       "\n",
       "    .dataframe thead th {\n",
       "        text-align: right;\n",
       "    }\n",
       "</style>\n",
       "<table border=\"1\" class=\"dataframe\">\n",
       "  <thead>\n",
       "    <tr style=\"text-align: right;\">\n",
       "      <th></th>\n",
       "      <th>aaron</th>\n",
       "      <th>abandoned</th>\n",
       "      <th>abbott</th>\n",
       "      <th>abc</th>\n",
       "      <th>abilities</th>\n",
       "      <th>ability</th>\n",
       "      <th>able</th>\n",
       "      <th>able get</th>\n",
       "      <th>able see</th>\n",
       "      <th>aboard</th>\n",
       "      <th>...</th>\n",
       "      <th>youthful</th>\n",
       "      <th>youtube</th>\n",
       "      <th>z</th>\n",
       "      <th>zane</th>\n",
       "      <th>zero</th>\n",
       "      <th>zizek</th>\n",
       "      <th>zoey</th>\n",
       "      <th>zombie</th>\n",
       "      <th>zombies</th>\n",
       "      <th>zone</th>\n",
       "    </tr>\n",
       "    <tr>\n",
       "      <th>LABEL</th>\n",
       "      <th></th>\n",
       "      <th></th>\n",
       "      <th></th>\n",
       "      <th></th>\n",
       "      <th></th>\n",
       "      <th></th>\n",
       "      <th></th>\n",
       "      <th></th>\n",
       "      <th></th>\n",
       "      <th></th>\n",
       "      <th></th>\n",
       "      <th></th>\n",
       "      <th></th>\n",
       "      <th></th>\n",
       "      <th></th>\n",
       "      <th></th>\n",
       "      <th></th>\n",
       "      <th></th>\n",
       "      <th></th>\n",
       "      <th></th>\n",
       "      <th></th>\n",
       "    </tr>\n",
       "  </thead>\n",
       "  <tbody>\n",
       "    <tr>\n",
       "      <th>1</th>\n",
       "      <td>0</td>\n",
       "      <td>0</td>\n",
       "      <td>0</td>\n",
       "      <td>0</td>\n",
       "      <td>0</td>\n",
       "      <td>0</td>\n",
       "      <td>0</td>\n",
       "      <td>0</td>\n",
       "      <td>0</td>\n",
       "      <td>0</td>\n",
       "      <td>...</td>\n",
       "      <td>0</td>\n",
       "      <td>0</td>\n",
       "      <td>0</td>\n",
       "      <td>0</td>\n",
       "      <td>0</td>\n",
       "      <td>0</td>\n",
       "      <td>0</td>\n",
       "      <td>0</td>\n",
       "      <td>0</td>\n",
       "      <td>0</td>\n",
       "    </tr>\n",
       "    <tr>\n",
       "      <th>0</th>\n",
       "      <td>0</td>\n",
       "      <td>0</td>\n",
       "      <td>0</td>\n",
       "      <td>0</td>\n",
       "      <td>0</td>\n",
       "      <td>0</td>\n",
       "      <td>0</td>\n",
       "      <td>0</td>\n",
       "      <td>0</td>\n",
       "      <td>0</td>\n",
       "      <td>...</td>\n",
       "      <td>0</td>\n",
       "      <td>0</td>\n",
       "      <td>0</td>\n",
       "      <td>0</td>\n",
       "      <td>0</td>\n",
       "      <td>0</td>\n",
       "      <td>0</td>\n",
       "      <td>0</td>\n",
       "      <td>0</td>\n",
       "      <td>0</td>\n",
       "    </tr>\n",
       "    <tr>\n",
       "      <th>1</th>\n",
       "      <td>0</td>\n",
       "      <td>0</td>\n",
       "      <td>0</td>\n",
       "      <td>0</td>\n",
       "      <td>0</td>\n",
       "      <td>0</td>\n",
       "      <td>0</td>\n",
       "      <td>0</td>\n",
       "      <td>0</td>\n",
       "      <td>0</td>\n",
       "      <td>...</td>\n",
       "      <td>0</td>\n",
       "      <td>0</td>\n",
       "      <td>0</td>\n",
       "      <td>0</td>\n",
       "      <td>0</td>\n",
       "      <td>0</td>\n",
       "      <td>0</td>\n",
       "      <td>0</td>\n",
       "      <td>0</td>\n",
       "      <td>0</td>\n",
       "    </tr>\n",
       "    <tr>\n",
       "      <th>0</th>\n",
       "      <td>0</td>\n",
       "      <td>0</td>\n",
       "      <td>0</td>\n",
       "      <td>0</td>\n",
       "      <td>0</td>\n",
       "      <td>0</td>\n",
       "      <td>1</td>\n",
       "      <td>0</td>\n",
       "      <td>0</td>\n",
       "      <td>0</td>\n",
       "      <td>...</td>\n",
       "      <td>0</td>\n",
       "      <td>0</td>\n",
       "      <td>0</td>\n",
       "      <td>0</td>\n",
       "      <td>0</td>\n",
       "      <td>0</td>\n",
       "      <td>0</td>\n",
       "      <td>0</td>\n",
       "      <td>0</td>\n",
       "      <td>1</td>\n",
       "    </tr>\n",
       "    <tr>\n",
       "      <th>0</th>\n",
       "      <td>0</td>\n",
       "      <td>0</td>\n",
       "      <td>0</td>\n",
       "      <td>0</td>\n",
       "      <td>0</td>\n",
       "      <td>0</td>\n",
       "      <td>0</td>\n",
       "      <td>0</td>\n",
       "      <td>0</td>\n",
       "      <td>0</td>\n",
       "      <td>...</td>\n",
       "      <td>0</td>\n",
       "      <td>0</td>\n",
       "      <td>0</td>\n",
       "      <td>0</td>\n",
       "      <td>0</td>\n",
       "      <td>0</td>\n",
       "      <td>0</td>\n",
       "      <td>0</td>\n",
       "      <td>0</td>\n",
       "      <td>0</td>\n",
       "    </tr>\n",
       "  </tbody>\n",
       "</table>\n",
       "<p>5 rows × 10000 columns</p>\n",
       "</div>"
      ],
      "text/plain": [
       "       aaron  abandoned  abbott  abc  abilities  ability  able  able get  \\\n",
       "LABEL                                                                      \n",
       "1          0          0       0    0          0        0     0         0   \n",
       "0          0          0       0    0          0        0     0         0   \n",
       "1          0          0       0    0          0        0     0         0   \n",
       "0          0          0       0    0          0        0     1         0   \n",
       "0          0          0       0    0          0        0     0         0   \n",
       "\n",
       "       able see  aboard  ...  youthful  youtube  z  zane  zero  zizek  zoey  \\\n",
       "LABEL                    ...                                                  \n",
       "1             0       0  ...         0        0  0     0     0      0     0   \n",
       "0             0       0  ...         0        0  0     0     0      0     0   \n",
       "1             0       0  ...         0        0  0     0     0      0     0   \n",
       "0             0       0  ...         0        0  0     0     0      0     0   \n",
       "0             0       0  ...         0        0  0     0     0      0     0   \n",
       "\n",
       "       zombie  zombies  zone  \n",
       "LABEL                         \n",
       "1           0        0     0  \n",
       "0           0        0     0  \n",
       "1           0        0     0  \n",
       "0           0        0     1  \n",
       "0           0        0     0  \n",
       "\n",
       "[5 rows x 10000 columns]"
      ]
     },
     "execution_count": 21,
     "metadata": {},
     "output_type": "execute_result"
    }
   ],
   "source": [
    "DataFrame_CVB.head(5)"
   ]
  },
  {
   "cell_type": "code",
   "execution_count": 22,
   "metadata": {},
   "outputs": [
    {
     "data": {
      "text/html": [
       "<div>\n",
       "<style scoped>\n",
       "    .dataframe tbody tr th:only-of-type {\n",
       "        vertical-align: middle;\n",
       "    }\n",
       "\n",
       "    .dataframe tbody tr th {\n",
       "        vertical-align: top;\n",
       "    }\n",
       "\n",
       "    .dataframe thead th {\n",
       "        text-align: right;\n",
       "    }\n",
       "</style>\n",
       "<table border=\"1\" class=\"dataframe\">\n",
       "  <thead>\n",
       "    <tr style=\"text-align: right;\">\n",
       "      <th></th>\n",
       "      <th>aaron</th>\n",
       "      <th>abandoned</th>\n",
       "      <th>abbott</th>\n",
       "      <th>abc</th>\n",
       "      <th>abilities</th>\n",
       "      <th>ability</th>\n",
       "      <th>able</th>\n",
       "      <th>able get</th>\n",
       "      <th>able see</th>\n",
       "      <th>aboard</th>\n",
       "      <th>...</th>\n",
       "      <th>youthful</th>\n",
       "      <th>youtube</th>\n",
       "      <th>z</th>\n",
       "      <th>zane</th>\n",
       "      <th>zero</th>\n",
       "      <th>zizek</th>\n",
       "      <th>zoey</th>\n",
       "      <th>zombie</th>\n",
       "      <th>zombies</th>\n",
       "      <th>zone</th>\n",
       "    </tr>\n",
       "    <tr>\n",
       "      <th>LABEL</th>\n",
       "      <th></th>\n",
       "      <th></th>\n",
       "      <th></th>\n",
       "      <th></th>\n",
       "      <th></th>\n",
       "      <th></th>\n",
       "      <th></th>\n",
       "      <th></th>\n",
       "      <th></th>\n",
       "      <th></th>\n",
       "      <th></th>\n",
       "      <th></th>\n",
       "      <th></th>\n",
       "      <th></th>\n",
       "      <th></th>\n",
       "      <th></th>\n",
       "      <th></th>\n",
       "      <th></th>\n",
       "      <th></th>\n",
       "      <th></th>\n",
       "      <th></th>\n",
       "    </tr>\n",
       "  </thead>\n",
       "  <tbody>\n",
       "    <tr>\n",
       "      <th>1</th>\n",
       "      <td>0.0</td>\n",
       "      <td>0.0</td>\n",
       "      <td>0.0</td>\n",
       "      <td>0.0</td>\n",
       "      <td>0.0</td>\n",
       "      <td>0.0</td>\n",
       "      <td>0.000000</td>\n",
       "      <td>0.0</td>\n",
       "      <td>0.0</td>\n",
       "      <td>0.0</td>\n",
       "      <td>...</td>\n",
       "      <td>0.0</td>\n",
       "      <td>0.0</td>\n",
       "      <td>0.0</td>\n",
       "      <td>0.0</td>\n",
       "      <td>0.0</td>\n",
       "      <td>0.0</td>\n",
       "      <td>0.0</td>\n",
       "      <td>0.0</td>\n",
       "      <td>0.0</td>\n",
       "      <td>0.000000</td>\n",
       "    </tr>\n",
       "    <tr>\n",
       "      <th>0</th>\n",
       "      <td>0.0</td>\n",
       "      <td>0.0</td>\n",
       "      <td>0.0</td>\n",
       "      <td>0.0</td>\n",
       "      <td>0.0</td>\n",
       "      <td>0.0</td>\n",
       "      <td>0.000000</td>\n",
       "      <td>0.0</td>\n",
       "      <td>0.0</td>\n",
       "      <td>0.0</td>\n",
       "      <td>...</td>\n",
       "      <td>0.0</td>\n",
       "      <td>0.0</td>\n",
       "      <td>0.0</td>\n",
       "      <td>0.0</td>\n",
       "      <td>0.0</td>\n",
       "      <td>0.0</td>\n",
       "      <td>0.0</td>\n",
       "      <td>0.0</td>\n",
       "      <td>0.0</td>\n",
       "      <td>0.000000</td>\n",
       "    </tr>\n",
       "    <tr>\n",
       "      <th>1</th>\n",
       "      <td>0.0</td>\n",
       "      <td>0.0</td>\n",
       "      <td>0.0</td>\n",
       "      <td>0.0</td>\n",
       "      <td>0.0</td>\n",
       "      <td>0.0</td>\n",
       "      <td>0.000000</td>\n",
       "      <td>0.0</td>\n",
       "      <td>0.0</td>\n",
       "      <td>0.0</td>\n",
       "      <td>...</td>\n",
       "      <td>0.0</td>\n",
       "      <td>0.0</td>\n",
       "      <td>0.0</td>\n",
       "      <td>0.0</td>\n",
       "      <td>0.0</td>\n",
       "      <td>0.0</td>\n",
       "      <td>0.0</td>\n",
       "      <td>0.0</td>\n",
       "      <td>0.0</td>\n",
       "      <td>0.000000</td>\n",
       "    </tr>\n",
       "    <tr>\n",
       "      <th>0</th>\n",
       "      <td>0.0</td>\n",
       "      <td>0.0</td>\n",
       "      <td>0.0</td>\n",
       "      <td>0.0</td>\n",
       "      <td>0.0</td>\n",
       "      <td>0.0</td>\n",
       "      <td>0.036214</td>\n",
       "      <td>0.0</td>\n",
       "      <td>0.0</td>\n",
       "      <td>0.0</td>\n",
       "      <td>...</td>\n",
       "      <td>0.0</td>\n",
       "      <td>0.0</td>\n",
       "      <td>0.0</td>\n",
       "      <td>0.0</td>\n",
       "      <td>0.0</td>\n",
       "      <td>0.0</td>\n",
       "      <td>0.0</td>\n",
       "      <td>0.0</td>\n",
       "      <td>0.0</td>\n",
       "      <td>0.056574</td>\n",
       "    </tr>\n",
       "    <tr>\n",
       "      <th>0</th>\n",
       "      <td>0.0</td>\n",
       "      <td>0.0</td>\n",
       "      <td>0.0</td>\n",
       "      <td>0.0</td>\n",
       "      <td>0.0</td>\n",
       "      <td>0.0</td>\n",
       "      <td>0.000000</td>\n",
       "      <td>0.0</td>\n",
       "      <td>0.0</td>\n",
       "      <td>0.0</td>\n",
       "      <td>...</td>\n",
       "      <td>0.0</td>\n",
       "      <td>0.0</td>\n",
       "      <td>0.0</td>\n",
       "      <td>0.0</td>\n",
       "      <td>0.0</td>\n",
       "      <td>0.0</td>\n",
       "      <td>0.0</td>\n",
       "      <td>0.0</td>\n",
       "      <td>0.0</td>\n",
       "      <td>0.000000</td>\n",
       "    </tr>\n",
       "  </tbody>\n",
       "</table>\n",
       "<p>5 rows × 10000 columns</p>\n",
       "</div>"
      ],
      "text/plain": [
       "       aaron  abandoned  abbott  abc  abilities  ability      able  able get  \\\n",
       "LABEL                                                                          \n",
       "1        0.0        0.0     0.0  0.0        0.0      0.0  0.000000       0.0   \n",
       "0        0.0        0.0     0.0  0.0        0.0      0.0  0.000000       0.0   \n",
       "1        0.0        0.0     0.0  0.0        0.0      0.0  0.000000       0.0   \n",
       "0        0.0        0.0     0.0  0.0        0.0      0.0  0.036214       0.0   \n",
       "0        0.0        0.0     0.0  0.0        0.0      0.0  0.000000       0.0   \n",
       "\n",
       "       able see  aboard  ...  youthful  youtube    z  zane  zero  zizek  zoey  \\\n",
       "LABEL                    ...                                                    \n",
       "1           0.0     0.0  ...       0.0      0.0  0.0   0.0   0.0    0.0   0.0   \n",
       "0           0.0     0.0  ...       0.0      0.0  0.0   0.0   0.0    0.0   0.0   \n",
       "1           0.0     0.0  ...       0.0      0.0  0.0   0.0   0.0    0.0   0.0   \n",
       "0           0.0     0.0  ...       0.0      0.0  0.0   0.0   0.0    0.0   0.0   \n",
       "0           0.0     0.0  ...       0.0      0.0  0.0   0.0   0.0    0.0   0.0   \n",
       "\n",
       "       zombie  zombies      zone  \n",
       "LABEL                             \n",
       "1         0.0      0.0  0.000000  \n",
       "0         0.0      0.0  0.000000  \n",
       "1         0.0      0.0  0.000000  \n",
       "0         0.0      0.0  0.056574  \n",
       "0         0.0      0.0  0.000000  \n",
       "\n",
       "[5 rows x 10000 columns]"
      ]
     },
     "execution_count": 22,
     "metadata": {},
     "output_type": "execute_result"
    }
   ],
   "source": [
    "DataFrame_TF.head(5)"
   ]
  },
  {
   "cell_type": "code",
   "execution_count": 23,
   "metadata": {},
   "outputs": [],
   "source": [
    "def Logical_Numbers_Present(anyString):\n",
    "    return any(char.isdigit() for char in anyString)"
   ]
  },
  {
   "cell_type": "code",
   "execution_count": 24,
   "metadata": {},
   "outputs": [],
   "source": [
    "MyStops=[\"also\", \"and\", \"are\", \"you\", \"of\", \"let\", \"not\", \"the\", \"for\", \"why\", \"there\", \"one\", \"which\", \"aaron\", \"abc\", \"able\"]\n",
    "for nextcol in DataFrame_CV.columns:\n",
    "    \n",
    "    Result=str.isdigit(nextcol) ## Fast way to check numbers\n",
    "    \n",
    "    LogResult=Logical_Numbers_Present(nextcol)\n",
    "    ## The above returns a logical of True or False\n",
    "    \n",
    "    ## The following will remove all columns that contains numbers\n",
    "    if(LogResult==True):\n",
    "        #print(LogResult)\n",
    "        #print(nextcol)\n",
    "        DataFrame_CV=DataFrame_CVB.drop([nextcol], axis=1)\n",
    "        DataFrame_TF=DataFrame_TF.drop([nextcol], axis=1)\n",
    "\n",
    "   \n",
    "    elif(len(str(nextcol))<=3 or (nextcol in MyStops)):\n",
    "        #print(nextcol)\n",
    "        DataFrame_CVB=DataFrame_CV.drop([nextcol], axis=1)\n",
    "        #DataFrame_TF=DataFrame_TF.drop([nextcol], axis=1)"
   ]
  },
  {
   "cell_type": "code",
   "execution_count": 25,
   "metadata": {},
   "outputs": [],
   "source": [
    "MyStops=[\"also\", \"and\", \"are\", \"you\", \"of\", \"let\", \"not\", \"the\", \"for\", \"why\", \"there\", \"one\", \"which\", \"aaron\", \"abc\", \"able\"]\n",
    "for nextcol in DataFrame_CVB.columns:\n",
    "    \n",
    "    Result=str.isdigit(nextcol) ## Fast way to check numbers\n",
    "    \n",
    "    LogResult=Logical_Numbers_Present(nextcol)\n",
    "    ## The above returns a logical of True or False\n",
    "    \n",
    "    ## The following will remove all columns that contains numbers\n",
    "    if(LogResult==True):\n",
    "        #print(LogResult)\n",
    "        #print(nextcol)\n",
    "        DataFrame_CV=DataFrame_CVB.drop([nextcol], axis=1)\n",
    "        DataFrame_TF=DataFrame_TF.drop([nextcol], axis=1)\n",
    "\n",
    "   \n",
    "    elif(len(str(nextcol))<=3 or (nextcol in MyStops)):\n",
    "        #print(nextcol)\n",
    "        DataFrame_CVB=DataFrame_CVB.drop([nextcol], axis=1)\n",
    "        DataFrame_TF=DataFrame_TF.drop([nextcol], axis=1)"
   ]
  },
  {
   "cell_type": "code",
   "execution_count": 26,
   "metadata": {},
   "outputs": [
    {
     "name": "stdout",
     "output_type": "stream",
     "text": [
      "Index(['aaron', 'abandoned', 'abbott', 'abc', 'abilities', 'ability', 'able',\n",
      "       'able get', 'able see', 'aboard',\n",
      "       ...\n",
      "       'youthful', 'youtube', 'z', 'zane', 'zero', 'zizek', 'zoey', 'zombie',\n",
      "       'zombies', 'zone'],\n",
      "      dtype='object', length=10000)\n"
     ]
    }
   ],
   "source": [
    "print(DataFrame_CV.columns)"
   ]
  },
  {
   "cell_type": "code",
   "execution_count": 27,
   "metadata": {},
   "outputs": [
    {
     "data": {
      "text/html": [
       "<div>\n",
       "<style scoped>\n",
       "    .dataframe tbody tr th:only-of-type {\n",
       "        vertical-align: middle;\n",
       "    }\n",
       "\n",
       "    .dataframe tbody tr th {\n",
       "        vertical-align: top;\n",
       "    }\n",
       "\n",
       "    .dataframe thead th {\n",
       "        text-align: right;\n",
       "    }\n",
       "</style>\n",
       "<table border=\"1\" class=\"dataframe\">\n",
       "  <thead>\n",
       "    <tr style=\"text-align: right;\">\n",
       "      <th></th>\n",
       "      <th>aaron</th>\n",
       "      <th>abandoned</th>\n",
       "      <th>abbott</th>\n",
       "      <th>abc</th>\n",
       "      <th>abilities</th>\n",
       "      <th>ability</th>\n",
       "      <th>able</th>\n",
       "      <th>able get</th>\n",
       "      <th>able see</th>\n",
       "      <th>aboard</th>\n",
       "      <th>...</th>\n",
       "      <th>youthful</th>\n",
       "      <th>youtube</th>\n",
       "      <th>z</th>\n",
       "      <th>zane</th>\n",
       "      <th>zero</th>\n",
       "      <th>zizek</th>\n",
       "      <th>zoey</th>\n",
       "      <th>zombie</th>\n",
       "      <th>zombies</th>\n",
       "      <th>zone</th>\n",
       "    </tr>\n",
       "    <tr>\n",
       "      <th>LABEL</th>\n",
       "      <th></th>\n",
       "      <th></th>\n",
       "      <th></th>\n",
       "      <th></th>\n",
       "      <th></th>\n",
       "      <th></th>\n",
       "      <th></th>\n",
       "      <th></th>\n",
       "      <th></th>\n",
       "      <th></th>\n",
       "      <th></th>\n",
       "      <th></th>\n",
       "      <th></th>\n",
       "      <th></th>\n",
       "      <th></th>\n",
       "      <th></th>\n",
       "      <th></th>\n",
       "      <th></th>\n",
       "      <th></th>\n",
       "      <th></th>\n",
       "      <th></th>\n",
       "    </tr>\n",
       "  </thead>\n",
       "  <tbody>\n",
       "    <tr>\n",
       "      <th>1</th>\n",
       "      <td>0</td>\n",
       "      <td>0</td>\n",
       "      <td>0</td>\n",
       "      <td>0</td>\n",
       "      <td>0</td>\n",
       "      <td>0</td>\n",
       "      <td>0</td>\n",
       "      <td>0</td>\n",
       "      <td>0</td>\n",
       "      <td>0</td>\n",
       "      <td>...</td>\n",
       "      <td>0</td>\n",
       "      <td>0</td>\n",
       "      <td>0</td>\n",
       "      <td>0</td>\n",
       "      <td>0</td>\n",
       "      <td>0</td>\n",
       "      <td>0</td>\n",
       "      <td>0</td>\n",
       "      <td>0</td>\n",
       "      <td>0</td>\n",
       "    </tr>\n",
       "    <tr>\n",
       "      <th>0</th>\n",
       "      <td>0</td>\n",
       "      <td>0</td>\n",
       "      <td>0</td>\n",
       "      <td>0</td>\n",
       "      <td>0</td>\n",
       "      <td>0</td>\n",
       "      <td>0</td>\n",
       "      <td>0</td>\n",
       "      <td>0</td>\n",
       "      <td>0</td>\n",
       "      <td>...</td>\n",
       "      <td>0</td>\n",
       "      <td>0</td>\n",
       "      <td>0</td>\n",
       "      <td>0</td>\n",
       "      <td>0</td>\n",
       "      <td>0</td>\n",
       "      <td>0</td>\n",
       "      <td>0</td>\n",
       "      <td>0</td>\n",
       "      <td>0</td>\n",
       "    </tr>\n",
       "    <tr>\n",
       "      <th>1</th>\n",
       "      <td>0</td>\n",
       "      <td>0</td>\n",
       "      <td>0</td>\n",
       "      <td>0</td>\n",
       "      <td>0</td>\n",
       "      <td>0</td>\n",
       "      <td>0</td>\n",
       "      <td>0</td>\n",
       "      <td>0</td>\n",
       "      <td>0</td>\n",
       "      <td>...</td>\n",
       "      <td>0</td>\n",
       "      <td>0</td>\n",
       "      <td>0</td>\n",
       "      <td>0</td>\n",
       "      <td>0</td>\n",
       "      <td>0</td>\n",
       "      <td>0</td>\n",
       "      <td>0</td>\n",
       "      <td>0</td>\n",
       "      <td>0</td>\n",
       "    </tr>\n",
       "    <tr>\n",
       "      <th>0</th>\n",
       "      <td>0</td>\n",
       "      <td>0</td>\n",
       "      <td>0</td>\n",
       "      <td>0</td>\n",
       "      <td>0</td>\n",
       "      <td>0</td>\n",
       "      <td>1</td>\n",
       "      <td>0</td>\n",
       "      <td>0</td>\n",
       "      <td>0</td>\n",
       "      <td>...</td>\n",
       "      <td>0</td>\n",
       "      <td>0</td>\n",
       "      <td>0</td>\n",
       "      <td>0</td>\n",
       "      <td>0</td>\n",
       "      <td>0</td>\n",
       "      <td>0</td>\n",
       "      <td>0</td>\n",
       "      <td>0</td>\n",
       "      <td>1</td>\n",
       "    </tr>\n",
       "    <tr>\n",
       "      <th>0</th>\n",
       "      <td>0</td>\n",
       "      <td>0</td>\n",
       "      <td>0</td>\n",
       "      <td>0</td>\n",
       "      <td>0</td>\n",
       "      <td>0</td>\n",
       "      <td>0</td>\n",
       "      <td>0</td>\n",
       "      <td>0</td>\n",
       "      <td>0</td>\n",
       "      <td>...</td>\n",
       "      <td>0</td>\n",
       "      <td>0</td>\n",
       "      <td>0</td>\n",
       "      <td>0</td>\n",
       "      <td>0</td>\n",
       "      <td>0</td>\n",
       "      <td>0</td>\n",
       "      <td>0</td>\n",
       "      <td>0</td>\n",
       "      <td>0</td>\n",
       "    </tr>\n",
       "  </tbody>\n",
       "</table>\n",
       "<p>5 rows × 10000 columns</p>\n",
       "</div>"
      ],
      "text/plain": [
       "       aaron  abandoned  abbott  abc  abilities  ability  able  able get  \\\n",
       "LABEL                                                                      \n",
       "1          0          0       0    0          0        0     0         0   \n",
       "0          0          0       0    0          0        0     0         0   \n",
       "1          0          0       0    0          0        0     0         0   \n",
       "0          0          0       0    0          0        0     1         0   \n",
       "0          0          0       0    0          0        0     0         0   \n",
       "\n",
       "       able see  aboard  ...  youthful  youtube  z  zane  zero  zizek  zoey  \\\n",
       "LABEL                    ...                                                  \n",
       "1             0       0  ...         0        0  0     0     0      0     0   \n",
       "0             0       0  ...         0        0  0     0     0      0     0   \n",
       "1             0       0  ...         0        0  0     0     0      0     0   \n",
       "0             0       0  ...         0        0  0     0     0      0     0   \n",
       "0             0       0  ...         0        0  0     0     0      0     0   \n",
       "\n",
       "       zombie  zombies  zone  \n",
       "LABEL                         \n",
       "1           0        0     0  \n",
       "0           0        0     0  \n",
       "1           0        0     0  \n",
       "0           0        0     1  \n",
       "0           0        0     0  \n",
       "\n",
       "[5 rows x 10000 columns]"
      ]
     },
     "execution_count": 27,
     "metadata": {},
     "output_type": "execute_result"
    }
   ],
   "source": [
    "DataFrame_CV.head(5)"
   ]
  },
  {
   "cell_type": "code",
   "execution_count": 28,
   "metadata": {},
   "outputs": [
    {
     "name": "stdout",
     "output_type": "stream",
     "text": [
      "\n",
      "Number of columns:\n",
      "10000\n"
     ]
    }
   ],
   "source": [
    "print(\"\\nNumber of columns:\")\n",
    "print(len(DataFrame_CV.columns))"
   ]
  },
  {
   "cell_type": "code",
   "execution_count": 29,
   "metadata": {},
   "outputs": [
    {
     "name": "stdout",
     "output_type": "stream",
     "text": [
      "\n",
      "Number of columns:\n",
      "9569\n"
     ]
    }
   ],
   "source": [
    "print(\"\\nNumber of columns:\")\n",
    "print(len(DataFrame_CVB.columns))"
   ]
  },
  {
   "cell_type": "code",
   "execution_count": 30,
   "metadata": {},
   "outputs": [
    {
     "name": "stdout",
     "output_type": "stream",
     "text": [
      "\n",
      "Number of columns:\n",
      "9570\n"
     ]
    }
   ],
   "source": [
    "print(\"\\nNumber of columns:\")\n",
    "print(len(DataFrame_TF.columns))"
   ]
  },
  {
   "cell_type": "code",
   "execution_count": 31,
   "metadata": {},
   "outputs": [],
   "source": [
    "DataFrame_CV1 = DataFrame_CV.reset_index()\n",
    "#DataFrame_CV1B = DataFrame_CVB.reset_index()\n",
    "#DataFrame_TF1 = DataFrame_TF.reset_index()"
   ]
  },
  {
   "cell_type": "code",
   "execution_count": 32,
   "metadata": {},
   "outputs": [
    {
     "data": {
      "text/html": [
       "<div>\n",
       "<style scoped>\n",
       "    .dataframe tbody tr th:only-of-type {\n",
       "        vertical-align: middle;\n",
       "    }\n",
       "\n",
       "    .dataframe tbody tr th {\n",
       "        vertical-align: top;\n",
       "    }\n",
       "\n",
       "    .dataframe thead th {\n",
       "        text-align: right;\n",
       "    }\n",
       "</style>\n",
       "<table border=\"1\" class=\"dataframe\">\n",
       "  <thead>\n",
       "    <tr style=\"text-align: right;\">\n",
       "      <th></th>\n",
       "      <th>LABEL</th>\n",
       "      <th>aaron</th>\n",
       "      <th>abandoned</th>\n",
       "      <th>abbott</th>\n",
       "      <th>abc</th>\n",
       "      <th>abilities</th>\n",
       "      <th>ability</th>\n",
       "      <th>able</th>\n",
       "      <th>able get</th>\n",
       "      <th>able see</th>\n",
       "      <th>...</th>\n",
       "      <th>youthful</th>\n",
       "      <th>youtube</th>\n",
       "      <th>z</th>\n",
       "      <th>zane</th>\n",
       "      <th>zero</th>\n",
       "      <th>zizek</th>\n",
       "      <th>zoey</th>\n",
       "      <th>zombie</th>\n",
       "      <th>zombies</th>\n",
       "      <th>zone</th>\n",
       "    </tr>\n",
       "  </thead>\n",
       "  <tbody>\n",
       "    <tr>\n",
       "      <th>0</th>\n",
       "      <td>1</td>\n",
       "      <td>0</td>\n",
       "      <td>0</td>\n",
       "      <td>0</td>\n",
       "      <td>0</td>\n",
       "      <td>0</td>\n",
       "      <td>0</td>\n",
       "      <td>0</td>\n",
       "      <td>0</td>\n",
       "      <td>0</td>\n",
       "      <td>...</td>\n",
       "      <td>0</td>\n",
       "      <td>0</td>\n",
       "      <td>0</td>\n",
       "      <td>0</td>\n",
       "      <td>0</td>\n",
       "      <td>0</td>\n",
       "      <td>0</td>\n",
       "      <td>0</td>\n",
       "      <td>0</td>\n",
       "      <td>0</td>\n",
       "    </tr>\n",
       "    <tr>\n",
       "      <th>1</th>\n",
       "      <td>0</td>\n",
       "      <td>0</td>\n",
       "      <td>0</td>\n",
       "      <td>0</td>\n",
       "      <td>0</td>\n",
       "      <td>0</td>\n",
       "      <td>0</td>\n",
       "      <td>0</td>\n",
       "      <td>0</td>\n",
       "      <td>0</td>\n",
       "      <td>...</td>\n",
       "      <td>0</td>\n",
       "      <td>0</td>\n",
       "      <td>0</td>\n",
       "      <td>0</td>\n",
       "      <td>0</td>\n",
       "      <td>0</td>\n",
       "      <td>0</td>\n",
       "      <td>0</td>\n",
       "      <td>0</td>\n",
       "      <td>0</td>\n",
       "    </tr>\n",
       "    <tr>\n",
       "      <th>2</th>\n",
       "      <td>1</td>\n",
       "      <td>0</td>\n",
       "      <td>0</td>\n",
       "      <td>0</td>\n",
       "      <td>0</td>\n",
       "      <td>0</td>\n",
       "      <td>0</td>\n",
       "      <td>0</td>\n",
       "      <td>0</td>\n",
       "      <td>0</td>\n",
       "      <td>...</td>\n",
       "      <td>0</td>\n",
       "      <td>0</td>\n",
       "      <td>0</td>\n",
       "      <td>0</td>\n",
       "      <td>0</td>\n",
       "      <td>0</td>\n",
       "      <td>0</td>\n",
       "      <td>0</td>\n",
       "      <td>0</td>\n",
       "      <td>0</td>\n",
       "    </tr>\n",
       "    <tr>\n",
       "      <th>3</th>\n",
       "      <td>0</td>\n",
       "      <td>0</td>\n",
       "      <td>0</td>\n",
       "      <td>0</td>\n",
       "      <td>0</td>\n",
       "      <td>0</td>\n",
       "      <td>0</td>\n",
       "      <td>1</td>\n",
       "      <td>0</td>\n",
       "      <td>0</td>\n",
       "      <td>...</td>\n",
       "      <td>0</td>\n",
       "      <td>0</td>\n",
       "      <td>0</td>\n",
       "      <td>0</td>\n",
       "      <td>0</td>\n",
       "      <td>0</td>\n",
       "      <td>0</td>\n",
       "      <td>0</td>\n",
       "      <td>0</td>\n",
       "      <td>1</td>\n",
       "    </tr>\n",
       "    <tr>\n",
       "      <th>4</th>\n",
       "      <td>0</td>\n",
       "      <td>0</td>\n",
       "      <td>0</td>\n",
       "      <td>0</td>\n",
       "      <td>0</td>\n",
       "      <td>0</td>\n",
       "      <td>0</td>\n",
       "      <td>0</td>\n",
       "      <td>0</td>\n",
       "      <td>0</td>\n",
       "      <td>...</td>\n",
       "      <td>0</td>\n",
       "      <td>0</td>\n",
       "      <td>0</td>\n",
       "      <td>0</td>\n",
       "      <td>0</td>\n",
       "      <td>0</td>\n",
       "      <td>0</td>\n",
       "      <td>0</td>\n",
       "      <td>0</td>\n",
       "      <td>0</td>\n",
       "    </tr>\n",
       "  </tbody>\n",
       "</table>\n",
       "<p>5 rows × 10001 columns</p>\n",
       "</div>"
      ],
      "text/plain": [
       "  LABEL  aaron  abandoned  abbott  abc  abilities  ability  able  able get  \\\n",
       "0     1      0          0       0    0          0        0     0         0   \n",
       "1     0      0          0       0    0          0        0     0         0   \n",
       "2     1      0          0       0    0          0        0     0         0   \n",
       "3     0      0          0       0    0          0        0     1         0   \n",
       "4     0      0          0       0    0          0        0     0         0   \n",
       "\n",
       "   able see  ...  youthful  youtube  z  zane  zero  zizek  zoey  zombie  \\\n",
       "0         0  ...         0        0  0     0     0      0     0       0   \n",
       "1         0  ...         0        0  0     0     0      0     0       0   \n",
       "2         0  ...         0        0  0     0     0      0     0       0   \n",
       "3         0  ...         0        0  0     0     0      0     0       0   \n",
       "4         0  ...         0        0  0     0     0      0     0       0   \n",
       "\n",
       "   zombies  zone  \n",
       "0        0     0  \n",
       "1        0     0  \n",
       "2        0     0  \n",
       "3        0     1  \n",
       "4        0     0  \n",
       "\n",
       "[5 rows x 10001 columns]"
      ]
     },
     "execution_count": 32,
     "metadata": {},
     "output_type": "execute_result"
    }
   ],
   "source": [
    "DataFrame_CV1.head()\n",
    "#DataFrame_CV1B\n",
    "#DataFrame_TF1"
   ]
  },
  {
   "cell_type": "code",
   "execution_count": 33,
   "metadata": {},
   "outputs": [],
   "source": [
    "DataFrame_CV1B = DataFrame_CVB.reset_index()\n",
    "DataFrame_TF1 = DataFrame_TF.reset_index()"
   ]
  },
  {
   "cell_type": "code",
   "execution_count": 34,
   "metadata": {},
   "outputs": [
    {
     "name": "stdout",
     "output_type": "stream",
     "text": [
      "\n",
      "Number of columns:\n",
      "10001\n"
     ]
    }
   ],
   "source": [
    "print(\"\\nNumber of columns:\")\n",
    "print(len(DataFrame_CV1.columns))"
   ]
  },
  {
   "cell_type": "code",
   "execution_count": 35,
   "metadata": {},
   "outputs": [
    {
     "name": "stdout",
     "output_type": "stream",
     "text": [
      "\n",
      "Number of columns:\n",
      "9570\n"
     ]
    }
   ],
   "source": [
    "print(\"\\nNumber of columns:\")\n",
    "print(len(DataFrame_CV1B.columns))"
   ]
  },
  {
   "cell_type": "code",
   "execution_count": 36,
   "metadata": {},
   "outputs": [
    {
     "name": "stdout",
     "output_type": "stream",
     "text": [
      "\n",
      "Number of columns:\n",
      "9571\n"
     ]
    }
   ],
   "source": [
    "print(\"\\nNumber of columns:\")\n",
    "print(len(DataFrame_TF1.columns))"
   ]
  },
  {
   "cell_type": "markdown",
   "metadata": {},
   "source": [
    "### __k-means__"
   ]
  },
  {
   "cell_type": "code",
   "execution_count": 37,
   "metadata": {},
   "outputs": [
    {
     "name": "stdout",
     "output_type": "stream",
     "text": [
      "<class 'numpy.ndarray'>\n",
      "[['1' 0 0 ... 0 0 0]\n",
      " ['0' 0 0 ... 0 0 0]\n",
      " ['1' 0 0 ... 0 0 0]\n",
      " ...\n",
      " ['0' 0 0 ... 0 0 0]\n",
      " ['0' 0 0 ... 0 0 0]\n",
      " ['1' 0 0 ... 0 0 0]]\n"
     ]
    }
   ],
   "source": [
    "# Convert DataFrame to matrix\n",
    "MyMatrixClean = DataFrame_CV1.values\n",
    "## Check it\n",
    "print(type(MyMatrixClean))\n",
    "print(MyMatrixClean)\n",
    "\n",
    "# Using sklearn\n",
    "## you will need\n",
    "from sklearn.cluster import KMeans\n",
    "import numpy as np\n",
    "kmeans_object2 = sklearn.cluster.KMeans(n_clusters=3)\n",
    "#print(kmeans_object)\n"
   ]
  },
  {
   "cell_type": "code",
   "execution_count": 38,
   "metadata": {},
   "outputs": [
    {
     "name": "stdout",
     "output_type": "stream",
     "text": [
      "k-means with k = 3\n",
      " [2 2 2 ... 2 2 2]\n",
      "k means RESULTS\n",
      "            0  1\n",
      "0          0  2\n",
      "1          1  2\n",
      "2          2  2\n",
      "3          3  0\n",
      "4          4  2\n",
      "...      ... ..\n",
      "37495  37495  1\n",
      "37496  37496  1\n",
      "37497  37497  2\n",
      "37498  37498  2\n",
      "37499  37499  2\n",
      "\n",
      "[37500 rows x 2 columns]\n"
     ]
    }
   ],
   "source": [
    "kmeans_object2.fit(MyMatrixClean)\n",
    "# Get cluster assignment labels\n",
    "labels2 = kmeans_object2.labels_\n",
    "print(\"k-means with k = 3\\n\", labels2)\n",
    "# Format results as a DataFrame\n",
    "Myresults2 = pd.DataFrame([DataFrame_TF1.index,labels2]).T\n",
    "print(\"k means RESULTS\\n\", Myresults2)"
   ]
  },
  {
   "cell_type": "markdown",
   "metadata": {},
   "source": [
    "##### Test Train split"
   ]
  },
  {
   "cell_type": "code",
   "execution_count": 39,
   "metadata": {},
   "outputs": [
    {
     "name": "stdout",
     "output_type": "stream",
     "text": [
      "\n",
      "The training set is:\n",
      "      LABEL  aaron  abandoned  abbott  abc  abilities  ability  able  \\\n",
      "34573     0      0          0       0    0          0        0     0   \n",
      "28393     1      0          0       0    0          0        0     0   \n",
      "2000      1      0          0       0    0          0        0     0   \n",
      "22447     1      0          0       0    0          0        0     0   \n",
      "3746      1      0          0       0    0          0        0     0   \n",
      "...     ...    ...        ...     ...  ...        ...      ...   ...   \n",
      "27294     1      0          0       0    0          0        0     0   \n",
      "35620     0      0          0       0    0          0        0     0   \n",
      "34833     1      0          0       0    0          0        0     0   \n",
      "33258     1      0          0       0    0          0        0     0   \n",
      "18346     0      0          0       0    0          0        0     0   \n",
      "\n",
      "       able get  able see  ...  youthful  youtube  z  zane  zero  zizek  zoey  \\\n",
      "34573         0         0  ...         0        0  0     0     0      0     0   \n",
      "28393         0         0  ...         0        0  0     0     0      0     0   \n",
      "2000          0         0  ...         0        0  0     0     0      0     0   \n",
      "22447         0         0  ...         0        0  0     0     0      0     0   \n",
      "3746          0         0  ...         0        0  0     0     0      0     0   \n",
      "...         ...       ...  ...       ...      ... ..   ...   ...    ...   ...   \n",
      "27294         0         0  ...         0        0  0     0     0      0     0   \n",
      "35620         0         0  ...         0        0  0     0     0      0     0   \n",
      "34833         0         0  ...         0        0  0     0     0      0     0   \n",
      "33258         0         0  ...         0        0  0     0     0      0     0   \n",
      "18346         0         0  ...         0        0  0     0     0      0     0   \n",
      "\n",
      "       zombie  zombies  zone  \n",
      "34573       0        0     0  \n",
      "28393       0        0     0  \n",
      "2000        0        0     0  \n",
      "22447       0        0     0  \n",
      "3746        0        0     0  \n",
      "...       ...      ...   ...  \n",
      "27294       0        0     0  \n",
      "35620       0        0     0  \n",
      "34833       0        0     0  \n",
      "33258       0        0     0  \n",
      "18346       0        0     0  \n",
      "\n",
      "[26250 rows x 10001 columns]\n",
      "\n",
      "The testing set is:\n",
      "      LABEL  aaron  abandoned  abbott  abc  abilities  ability  able  \\\n",
      "14641     1      0          0       0    0          0        0     0   \n",
      "3022      1      0          0       0    0          0        0     0   \n",
      "13651     1      0          0       0    0          0        0     0   \n",
      "3129      0      0          0       0    0          0        0     0   \n",
      "36865     0      0          0       0    0          0        0     0   \n",
      "...     ...    ...        ...     ...  ...        ...      ...   ...   \n",
      "20249     0      0          0       0    0          0        0     0   \n",
      "21718     1      0          0       0    0          0        0     0   \n",
      "36798     0      0          0       0    0          0        0     0   \n",
      "1587      0      0          0       0    0          0        0     0   \n",
      "10802     0      0          0       0    0          0        0     0   \n",
      "\n",
      "       able get  able see  ...  youthful  youtube  z  zane  zero  zizek  zoey  \\\n",
      "14641         0         0  ...         0        0  0     0     0      0     0   \n",
      "3022          0         0  ...         0        0  0     0     0      0     0   \n",
      "13651         0         0  ...         0        0  0     0     0      0     0   \n",
      "3129          0         0  ...         0        0  0     0     0      0     0   \n",
      "36865         0         0  ...         0        0  0     0     0      0     0   \n",
      "...         ...       ...  ...       ...      ... ..   ...   ...    ...   ...   \n",
      "20249         0         0  ...         0        0  0     0     0      0     0   \n",
      "21718         0         0  ...         0        0  0     0     0      0     0   \n",
      "36798         0         0  ...         0        0  0     0     0      0     0   \n",
      "1587          0         0  ...         0        0  0     0     0      0     0   \n",
      "10802         0         0  ...         0        0  0     0     0      0     0   \n",
      "\n",
      "       zombie  zombies  zone  \n",
      "14641       0        0     0  \n",
      "3022        0        0     0  \n",
      "13651       0        0     0  \n",
      "3129        0        0     0  \n",
      "36865       0        0     0  \n",
      "...       ...      ...   ...  \n",
      "20249       0        0     0  \n",
      "21718       0        2     0  \n",
      "36798       0        0     0  \n",
      "1587        0        0     0  \n",
      "10802       0        0     0  \n",
      "\n",
      "[11250 rows x 10001 columns]\n"
     ]
    }
   ],
   "source": [
    "## Train, Test split - Count Vectorizer \n",
    "from sklearn.model_selection import train_test_split\n",
    "import random \n",
    "random.seed (1234)\n",
    "TrainDF, TestDF = train_test_split(DataFrame_CV1, test_size=0.3)\n",
    "\n",
    "## Now we have a training set and a testing set. \n",
    "print(\"\\nThe training set is:\")\n",
    "print(TrainDF)\n",
    "print(\"\\nThe testing set is:\")\n",
    "print(TestDF)"
   ]
  },
  {
   "cell_type": "code",
   "execution_count": 40,
   "metadata": {},
   "outputs": [],
   "source": [
    "## Train, Test split - Count Vectorizer - Bernoulli\n",
    "from sklearn.model_selection import train_test_split\n",
    "import random \n",
    "random.seed (1234)\n",
    "TrainDFB, TestDFB = train_test_split(DataFrame_CV1B, test_size=0.3)\n",
    "\n",
    "## Now we have a training set and a testing set. \n",
    "#print(\"\\nThe training set is:\")\n",
    "#print(TrainDFB)\n",
    "#print(\"\\nThe testing set is:\")\n",
    "#print(TestDFB)"
   ]
  },
  {
   "cell_type": "code",
   "execution_count": 41,
   "metadata": {},
   "outputs": [],
   "source": [
    "## Train, Test split -TF\n",
    "from sklearn.model_selection import train_test_split\n",
    "import random \n",
    "random.seed (1234)\n",
    "TrainDF_tf, TestDF_tf = train_test_split(DataFrame_TF1, test_size=0.3)\n",
    "\n",
    "## Now we have a training set and a testing set. \n",
    "#print(\"\\nThe training set is:\")\n",
    "#print(TrainDF_tf)\n",
    "#print(\"\\nThe testing set is:\")\n",
    "#print(TestDF_tf)"
   ]
  },
  {
   "cell_type": "code",
   "execution_count": 42,
   "metadata": {},
   "outputs": [
    {
     "name": "stdout",
     "output_type": "stream",
     "text": [
      "       aaron  abandoned  abbott  abc  abilities  ability  able  able get  \\\n",
      "14641      0          0       0    0          0        0     0         0   \n",
      "3022       0          0       0    0          0        0     0         0   \n",
      "13651      0          0       0    0          0        0     0         0   \n",
      "3129       0          0       0    0          0        0     0         0   \n",
      "36865      0          0       0    0          0        0     0         0   \n",
      "...      ...        ...     ...  ...        ...      ...   ...       ...   \n",
      "20249      0          0       0    0          0        0     0         0   \n",
      "21718      0          0       0    0          0        0     0         0   \n",
      "36798      0          0       0    0          0        0     0         0   \n",
      "1587       0          0       0    0          0        0     0         0   \n",
      "10802      0          0       0    0          0        0     0         0   \n",
      "\n",
      "       able see  aboard  ...  youthful  youtube  z  zane  zero  zizek  zoey  \\\n",
      "14641         0       0  ...         0        0  0     0     0      0     0   \n",
      "3022          0       0  ...         0        0  0     0     0      0     0   \n",
      "13651         0       0  ...         0        0  0     0     0      0     0   \n",
      "3129          0       0  ...         0        0  0     0     0      0     0   \n",
      "36865         0       0  ...         0        0  0     0     0      0     0   \n",
      "...         ...     ...  ...       ...      ... ..   ...   ...    ...   ...   \n",
      "20249         0       0  ...         0        0  0     0     0      0     0   \n",
      "21718         0       0  ...         0        0  0     0     0      0     0   \n",
      "36798         0       0  ...         0        0  0     0     0      0     0   \n",
      "1587          0       0  ...         0        0  0     0     0      0     0   \n",
      "10802         0       0  ...         0        0  0     0     0      0     0   \n",
      "\n",
      "       zombie  zombies  zone  \n",
      "14641       0        0     0  \n",
      "3022        0        0     0  \n",
      "13651       0        0     0  \n",
      "3129        0        0     0  \n",
      "36865       0        0     0  \n",
      "...       ...      ...   ...  \n",
      "20249       0        0     0  \n",
      "21718       0        2     0  \n",
      "36798       0        0     0  \n",
      "1587        0        0     0  \n",
      "10802       0        0     0  \n",
      "\n",
      "[11250 rows x 10000 columns]\n"
     ]
    }
   ],
   "source": [
    "## Save labels\n",
    "TestLabels=TestDF[\"LABEL\"]\n",
    "#print(TestLabels)\n",
    "\n",
    "## remove labels\n",
    "## Make a copy of TestDF\n",
    "CopyTestDF=TestDF.copy()\n",
    "TestDF = TestDF.drop([\"LABEL\"], axis=1)\n",
    "print(TestDF)\n",
    "\n",
    "## DF seperate TRAIN SET from the labels\n",
    "TrainDF_nolabels=TrainDF.drop([\"LABEL\"], axis=1)\n",
    "#print(TrainDF_nolabels)\n",
    "TrainLabels=TrainDF[\"LABEL\"]\n",
    "#print(TrainLabels)"
   ]
  },
  {
   "cell_type": "code",
   "execution_count": 43,
   "metadata": {},
   "outputs": [
    {
     "name": "stdout",
     "output_type": "stream",
     "text": [
      "       abandoned  abbott  abilities  ability  able get  able see  aboard  \\\n",
      "10109          0       0          0        1         0         0       0   \n",
      "18683          0       0          0        0         0         0       0   \n",
      "19601          0       0          0        0         0         0       0   \n",
      "20376          0       0          0        0         0         0       0   \n",
      "5467           0       0          0        0         0         0       0   \n",
      "...          ...     ...        ...      ...       ...       ...     ...   \n",
      "15831          0       0          0        0         0         0       0   \n",
      "18676          0       0          0        0         0         0       0   \n",
      "22119          0       0          0        0         0         0       0   \n",
      "21254          0       0          0        0         0         0       0   \n",
      "28034          0       0          0        0         0         0       0   \n",
      "\n",
      "       abomination  abortion  abound  ...  youth  youthful  youtube  zane  \\\n",
      "10109            0         0       0  ...      0         0        0     0   \n",
      "18683            0         0       0  ...      0         0        0     0   \n",
      "19601            0         0       0  ...      0         0        0     0   \n",
      "20376            0         0       0  ...      0         0        0     0   \n",
      "5467             0         0       0  ...      0         0        0     0   \n",
      "...            ...       ...     ...  ...    ...       ...      ...   ...   \n",
      "15831            0         0       0  ...      0         0        0     0   \n",
      "18676            0         0       0  ...      0         0        0     0   \n",
      "22119            0         0       0  ...      0         0        0     0   \n",
      "21254            0         0       0  ...      0         0        0     0   \n",
      "28034            0         0       0  ...      0         0        0     0   \n",
      "\n",
      "       zero  zizek  zoey  zombie  zombies  zone  \n",
      "10109     0      0     0       0        0     0  \n",
      "18683     0      0     0       0        0     0  \n",
      "19601     0      0     0       0        0     0  \n",
      "20376     0      0     0       0        0     0  \n",
      "5467      0      0     0       0        0     0  \n",
      "...     ...    ...   ...     ...      ...   ...  \n",
      "15831     0      0     0       0        0     0  \n",
      "18676     0      0     0       0        0     0  \n",
      "22119     0      0     0       0        0     0  \n",
      "21254     0      0     0       0        0     0  \n",
      "28034     0      0     0       0        0     0  \n",
      "\n",
      "[11250 rows x 9569 columns]\n"
     ]
    }
   ],
   "source": [
    "## Save labels -  Bernoulli\n",
    "TestLabelsB=TestDFB[\"LABEL\"]\n",
    "#print(TestLabels)\n",
    "\n",
    "## remove labels\n",
    "## Make a copy of TestDF\n",
    "CopyTestDFB=TestDFB.copy()\n",
    "TestDFB = TestDFB.drop([\"LABEL\"], axis=1)\n",
    "print(TestDFB)\n",
    "\n",
    "## DF seperate TRAIN SET from the labels\n",
    "TrainDFB_nolabels=TrainDFB.drop([\"LABEL\"], axis=1)\n",
    "#print(TrainDF_nolabels)\n",
    "TrainLabelsB=TrainDFB[\"LABEL\"]\n",
    "#print(TrainLabels)"
   ]
  },
  {
   "cell_type": "code",
   "execution_count": 44,
   "metadata": {},
   "outputs": [
    {
     "name": "stdout",
     "output_type": "stream",
     "text": [
      "14641    1\n",
      "3022     1\n",
      "13651    1\n",
      "3129     0\n",
      "36865    0\n",
      "        ..\n",
      "20249    0\n",
      "21718    1\n",
      "36798    0\n",
      "1587     0\n",
      "10802    0\n",
      "Name: LABEL, Length: 11250, dtype: object\n",
      "       abandoned  abbott  abilities  ability  able get  able see  aboard  \\\n",
      "27811        0.0     0.0        0.0      0.0       0.0       0.0     0.0   \n",
      "17891        0.0     0.0        0.0      0.0       0.0       0.0     0.0   \n",
      "10747        0.0     0.0        0.0      0.0       0.0       0.0     0.0   \n",
      "18179        0.0     0.0        0.0      0.0       0.0       0.0     0.0   \n",
      "30535        0.0     0.0        0.0      0.0       0.0       0.0     0.0   \n",
      "...          ...     ...        ...      ...       ...       ...     ...   \n",
      "5804         0.0     0.0        0.0      0.0       0.0       0.0     0.0   \n",
      "24887        0.0     0.0        0.0      0.0       0.0       0.0     0.0   \n",
      "23215        0.0     0.0        0.0      0.0       0.0       0.0     0.0   \n",
      "10768        0.0     0.0        0.0      0.0       0.0       0.0     0.0   \n",
      "31856        0.0     0.0        0.0      0.0       0.0       0.0     0.0   \n",
      "\n",
      "       abomination  abortion  abound  ...  youthful  youtube    z  zane  zero  \\\n",
      "27811          0.0       0.0     0.0  ...       0.0      0.0  0.0   0.0   0.0   \n",
      "17891          0.0       0.0     0.0  ...       0.0      0.0  0.0   0.0   0.0   \n",
      "10747          0.0       0.0     0.0  ...       0.0      0.0  0.0   0.0   0.0   \n",
      "18179          0.0       0.0     0.0  ...       0.0      0.0  0.0   0.0   0.0   \n",
      "30535          0.0       0.0     0.0  ...       0.0      0.0  0.0   0.0   0.0   \n",
      "...            ...       ...     ...  ...       ...      ...  ...   ...   ...   \n",
      "5804           0.0       0.0     0.0  ...       0.0      0.0  0.0   0.0   0.0   \n",
      "24887          0.0       0.0     0.0  ...       0.0      0.0  0.0   0.0   0.0   \n",
      "23215          0.0       0.0     0.0  ...       0.0      0.0  0.0   0.0   0.0   \n",
      "10768          0.0       0.0     0.0  ...       0.0      0.0  0.0   0.0   0.0   \n",
      "31856          0.0       0.0     0.0  ...       0.0      0.0  0.0   0.0   0.0   \n",
      "\n",
      "       zizek  zoey  zombie  zombies  zone  \n",
      "27811    0.0   0.0     0.0      0.0   0.0  \n",
      "17891    0.0   0.0     0.0      0.0   0.0  \n",
      "10747    0.0   0.0     0.0      0.0   0.0  \n",
      "18179    0.0   0.0     0.0      0.0   0.0  \n",
      "30535    0.0   0.0     0.0      0.0   0.0  \n",
      "...      ...   ...     ...      ...   ...  \n",
      "5804     0.0   0.0     0.0      0.0   0.0  \n",
      "24887    0.0   0.0     0.0      0.0   0.0  \n",
      "23215    0.0   0.0     0.0      0.0   0.0  \n",
      "10768    0.0   0.0     0.0      0.0   0.0  \n",
      "31856    0.0   0.0     0.0      0.0   0.0  \n",
      "\n",
      "[11250 rows x 9570 columns]\n"
     ]
    }
   ],
   "source": [
    "## Save labels - TF\n",
    "TestLabels_tf=TestDF_tf[\"LABEL\"]\n",
    "print(TestLabels)\n",
    "\n",
    "## remove labels\n",
    "## Make a copy of TestDF\n",
    "CopyTestDF_tf=TestDF_tf.copy()\n",
    "TestDF_tf = TestDF_tf.drop([\"LABEL\"], axis=1)\n",
    "print(TestDF_tf)\n",
    "\n",
    "## DF seperate TRAIN SET from the labels\n",
    "TrainDF_nolabels_tf=TrainDF_tf.drop([\"LABEL\"], axis=1)\n",
    "#print(TrainDF_nolabels)\n",
    "TrainLabels_tf=TrainDF_tf[\"LABEL\"]\n",
    "#print(TrainLabels)"
   ]
  },
  {
   "cell_type": "markdown",
   "metadata": {},
   "source": [
    "## __MNB__"
   ]
  },
  {
   "cell_type": "markdown",
   "metadata": {},
   "source": [
    "#### __- CountVect__"
   ]
  },
  {
   "cell_type": "code",
   "execution_count": 45,
   "metadata": {},
   "outputs": [
    {
     "name": "stdout",
     "output_type": "stream",
     "text": [
      "\n",
      "The prediction from NB is:\n",
      "['1' '1' '0' ... '0' '0' '1']\n",
      "\n",
      "The actual labels are:\n",
      "14641    1\n",
      "3022     1\n",
      "13651    1\n",
      "3129     0\n",
      "36865    0\n",
      "        ..\n",
      "20249    0\n",
      "21718    1\n",
      "36798    0\n",
      "1587     0\n",
      "10802    0\n",
      "Name: LABEL, Length: 11250, dtype: object\n"
     ]
    }
   ],
   "source": [
    "from sklearn.naive_bayes import MultinomialNB\n",
    "\n",
    "MyModelNB= MultinomialNB()\n",
    "\n",
    "MyModelNB.fit(TrainDF_nolabels, TrainLabels)\n",
    "Prediction = MyModelNB.predict(TestDF)\n",
    "print(\"\\nThe prediction from NB is:\")\n",
    "print(Prediction)\n",
    "print(\"\\nThe actual labels are:\")\n",
    "print(TestLabels)"
   ]
  },
  {
   "cell_type": "code",
   "execution_count": 46,
   "metadata": {},
   "outputs": [
    {
     "name": "stdout",
     "output_type": "stream",
     "text": [
      "\n",
      "The confusion matrix is:\n",
      "[[4862  829]\n",
      " [ 780 4779]]\n"
     ]
    }
   ],
   "source": [
    "## confusion matrix\n",
    "from sklearn.metrics import confusion_matrix\n",
    "\n",
    "cnf_matrix = confusion_matrix(TestLabels, Prediction)\n",
    "print(\"\\nThe confusion matrix is:\")\n",
    "print(cnf_matrix)"
   ]
  },
  {
   "cell_type": "code",
   "execution_count": 47,
   "metadata": {},
   "outputs": [
    {
     "data": {
      "image/png": "[encoded data removed]",
      "text/plain": [
       "<Figure size 864x576 with 2 Axes>"
      ]
     },
     "metadata": {},
     "output_type": "display_data"
    }
   ],
   "source": [
    "skplt.metrics.plot_confusion_matrix(TestLabels, Prediction ,normalize=False,figsize=(12,8), cmap=plt.cm.PuBu)\n",
    "plt.show()"
   ]
  },
  {
   "cell_type": "code",
   "execution_count": 48,
   "metadata": {},
   "outputs": [
    {
     "name": "stdout",
     "output_type": "stream",
     "text": [
      "[[0.01 0.99]\n",
      " [0.   1.  ]\n",
      " [0.59 0.41]\n",
      " ...\n",
      " [1.   0.  ]\n",
      " [1.   0.  ]\n",
      " [0.   1.  ]]\n"
     ]
    }
   ],
   "source": [
    "print(np.round(MyModelNB.predict_proba(TestDF),2))"
   ]
  },
  {
   "cell_type": "code",
   "execution_count": 49,
   "metadata": {},
   "outputs": [
    {
     "name": "stdout",
     "output_type": "stream",
     "text": [
      "              precision    recall  f1-score   support\n",
      "\n",
      "           0       0.86      0.85      0.86      5691\n",
      "           1       0.85      0.86      0.86      5559\n",
      "\n",
      "    accuracy                           0.86     11250\n",
      "   macro avg       0.86      0.86      0.86     11250\n",
      "weighted avg       0.86      0.86      0.86     11250\n",
      "\n",
      "[[4862  829]\n",
      " [ 780 4779]]\n"
     ]
    }
   ],
   "source": [
    "from sklearn import metrics\n",
    "\n",
    "print(metrics.classification_report(TestLabels, Prediction))\n",
    "print(metrics.confusion_matrix(TestLabels, Prediction))"
   ]
  },
  {
   "cell_type": "code",
   "execution_count": 50,
   "metadata": {},
   "outputs": [],
   "source": [
    "import pickle\n",
    "# save the model to disk\n",
    "filename = 'MNB_model.sav'\n",
    "pickle.dump(MyModelNB, open(filename, 'wb'))\n",
    " \n",
    "# some time later...\n",
    " \n",
    "# load the model from disk\n",
    "loaded_model = pickle.load(open(filename, 'rb'))\n",
    "#result = loaded_model.score(TestLabels, TestDF)\n",
    "#print(result)"
   ]
  },
  {
   "cell_type": "code",
   "execution_count": 51,
   "metadata": {},
   "outputs": [],
   "source": [
    "#word_freq = dict(zip(My_CV1.get_feature_names(), np.asarray(bow.sum(axis=0)).ravel()))\n",
    "#word_counter = collections.Counter(word_freq)\n",
    "#word_counter_df = pd.DataFrame(word_counter.most_common(20), columns = ['word', 'freq'])\n",
    "#fig, ax = plt.subplots(figsize=(12, 10))\n",
    "#sns.barplot(x=\"word\", y=\"freq\", data=word_counter_df, palette=\"PuBuGn_d\", ax=ax)\n",
    "#plt.show();"
   ]
  },
  {
   "cell_type": "code",
   "execution_count": 52,
   "metadata": {},
   "outputs": [],
   "source": [
    "def rev_important_features(vectorizer,classifier, n):\n",
    "    class_labels = classifier.classes_\n",
    "    feature_names = vectorizer.get_feature_names()\n",
    "    topn_class1 = sorted(zip(classifier.feature_count_[0], feature_names), reverse = True)[:n]\n",
    "    topn_class2 = sorted(zip(classifier.feature_count_[1], feature_names), reverse = True)[:n]\n",
    "    print(\"Important words in negative reviews: \")\n",
    "    for coef, feat in topn_class1:\n",
    "        print(class_labels[0], coef, feat)\n",
    "    print(\"-----------------------------------------\")\n",
    "    print(\"Important words in positive reviews: \")\n",
    "    for coef, feat in topn_class2:\n",
    "        print(class_labels[1], coef, feat)\n"
   ]
  },
  {
   "cell_type": "code",
   "execution_count": 53,
   "metadata": {},
   "outputs": [
    {
     "name": "stdout",
     "output_type": "stream",
     "text": [
      "Important words in negative reviews: \n",
      "0 13926.0 one\n",
      "0 11748.0 like\n",
      "0 7960.0 even\n",
      "0 7810.0 good\n",
      "0 7675.0 bad\n",
      "0 7443.0 would\n",
      "0 6493.0 time\n",
      "0 6425.0 really\n",
      "0 5637.0 see\n",
      "0 5419.0 get\n",
      "0 5363.0 story\n",
      "0 5314.0 much\n",
      "0 4940.0 people\n",
      "0 4927.0 could\n",
      "0 4823.0 make\n",
      "0 4624.0 made\n",
      "0 4430.0 first\n",
      "0 4397.0 well\n",
      "0 4359.0 movies\n",
      "0 4307.0 plot\n",
      "-----------------------------------------\n",
      "Important words in positive reviews: \n",
      "1 14268.0 one\n",
      "1 9203.0 like\n",
      "1 7768.0 good\n",
      "1 6806.0 story\n",
      "1 6760.0 time\n",
      "1 6644.0 great\n",
      "1 6537.0 well\n",
      "1 6517.0 see\n",
      "1 5646.0 really\n",
      "1 5645.0 also\n",
      "1 5581.0 would\n",
      "1 5021.0 even\n",
      "1 4767.0 first\n",
      "1 4743.0 much\n",
      "1 4539.0 love\n",
      "1 4531.0 people\n",
      "1 4476.0 best\n",
      "1 4371.0 life\n",
      "1 4350.0 get\n",
      "1 4121.0 way\n"
     ]
    }
   ],
   "source": [
    "rev_important_features(My_CV1,MyModelNB, 20)"
   ]
  },
  {
   "cell_type": "code",
   "execution_count": 54,
   "metadata": {},
   "outputs": [
    {
     "name": "stdout",
     "output_type": "stream",
     "text": [
      "('one', -4.602003779372975)\n",
      "('like', -5.040454959148294)\n",
      "('good', -5.20995167535313)\n",
      "('story', -5.342141636855599)\n",
      "('time', -5.348922323212873)\n",
      "('great', -5.366228439156204)\n",
      "('well', -5.382461823019394)\n",
      "('see', -5.385525550906044)\n",
      "('really', -5.528968700630713)\n",
      "('also', -5.529145801490117)\n",
      "('would', -5.540545996207284)\n",
      "('even', -5.64626487058602)\n",
      "('first', -5.698166201558365)\n",
      "('much', -5.7032124696259885)\n",
      "('love', -5.747166119268156)\n",
      "('people', -5.748929788155653)\n",
      "('best', -5.761139952062585)\n",
      "('life', -5.784872561007122)\n",
      "('get', -5.789687427582871)\n",
      "('way', -5.843754648853146)\n",
      "\n",
      "\n",
      "\n",
      "('avoid like', -14.16784841030355)\n",
      "('caligula', -14.16784841030355)\n",
      "('concorde', -14.16784841030355)\n",
      "('piece garbage', -14.16784841030355)\n",
      "('worst films', -14.16784841030355)\n",
      "('absolutely terrible', -13.474701229743605)\n",
      "('acting awful', -13.474701229743605)\n",
      "('acting horrible', -13.474701229743605)\n",
      "('avoid costs', -13.474701229743605)\n",
      "('boll', -13.474701229743605)\n",
      "('horrible acting', -13.474701229743605)\n",
      "('possibly worst', -13.474701229743605)\n",
      "('total waste', -13.474701229743605)\n",
      "('truly awful', -13.474701229743605)\n",
      "('uwe', -13.474701229743605)\n",
      "('uwe boll', -13.474701229743605)\n",
      "('worst acting', -13.474701229743605)\n",
      "('abomination', -13.069236121635441)\n",
      "('avoid one', -13.069236121635441)\n",
      "('beowulf', -13.069236121635441)\n"
     ]
    }
   ],
   "source": [
    "# top positive and negative features \n",
    "feature_to_coef = {\n",
    "    word: coef for word, coef in zip(\n",
    "        My_CV1.get_feature_names(), MyModelNB.coef_[0]\n",
    "    )\n",
    "}\n",
    "\n",
    "for best_positive in sorted(\n",
    "    feature_to_coef.items(), \n",
    "    key=lambda x: x[1], \n",
    "    reverse=True)[:20]:\n",
    "    print (best_positive)\n",
    "    \n",
    "print(\"\\n\\n\")\n",
    "for best_negative in sorted(\n",
    "    feature_to_coef.items(), \n",
    "    key=lambda x: x[1])[:20]:\n",
    "    print (best_negative)"
   ]
  },
  {
   "cell_type": "code",
   "execution_count": 55,
   "metadata": {},
   "outputs": [],
   "source": [
    "def predict_category(s, train=TestLabels, model=MyModelNB):\n",
    "    pred = model.predict([s])\n",
    "    return train.target_names[pred[0]]"
   ]
  },
  {
   "cell_type": "markdown",
   "metadata": {},
   "source": [
    "### __BNB__"
   ]
  },
  {
   "cell_type": "code",
   "execution_count": 56,
   "metadata": {},
   "outputs": [
    {
     "name": "stdout",
     "output_type": "stream",
     "text": [
      "\n",
      "Bernoulli prediction:\n",
      " ['1' '0' '1' ... '0' '0' '1']\n",
      "\n",
      "Actual:\n",
      "10109    1\n",
      "18683    1\n",
      "19601    1\n",
      "20376    1\n",
      "5467     0\n",
      "        ..\n",
      "15831    0\n",
      "18676    0\n",
      "22119    0\n",
      "21254    1\n",
      "28034    0\n",
      "Name: LABEL, Length: 11250, dtype: object\n"
     ]
    }
   ],
   "source": [
    "BernModel = BernoulliNB()\n",
    "BernModel.fit(TrainDFB_nolabels, TrainLabelsB)\n",
    "#BernoulliNB(alpha=1.0, binarize=0.0, class_prior=None, fit_prior=True)\n",
    "PredictionB = BernModel.predict(TestDFB)\n",
    "print(\"\\nBernoulli prediction:\\n\", BernModel.predict(TestDFB))\n",
    "print(\"\\nActual:\")\n",
    "print(TestLabelsB)"
   ]
  },
  {
   "cell_type": "code",
   "execution_count": 57,
   "metadata": {},
   "outputs": [
    {
     "name": "stdout",
     "output_type": "stream",
     "text": [
      "\n",
      "The confusion  matrix is:\n",
      "[[4888  743]\n",
      " [ 723 4896]]\n"
     ]
    }
   ],
   "source": [
    "bn_matrix = confusion_matrix(TestLabelsB, BernModel.predict(TestDFB))\n",
    "print(\"\\nThe confusion  matrix is:\")\n",
    "print(bn_matrix)"
   ]
  },
  {
   "cell_type": "code",
   "execution_count": 58,
   "metadata": {},
   "outputs": [
    {
     "data": {
      "image/png": "[encoded data removed]",
      "text/plain": [
       "<Figure size 864x576 with 2 Axes>"
      ]
     },
     "metadata": {},
     "output_type": "display_data"
    }
   ],
   "source": [
    "skplt.metrics.plot_confusion_matrix(TestLabelsB, PredictionB,normalize=False,figsize=(12,8), cmap=plt.cm.PuBu)\n",
    "plt.show()"
   ]
  },
  {
   "cell_type": "code",
   "execution_count": 59,
   "metadata": {},
   "outputs": [
    {
     "name": "stdout",
     "output_type": "stream",
     "text": [
      "[[0.   1.  ]\n",
      " [0.99 0.01]\n",
      " [0.   1.  ]\n",
      " ...\n",
      " [1.   0.  ]\n",
      " [0.88 0.12]\n",
      " [0.   1.  ]]\n"
     ]
    }
   ],
   "source": [
    "print(np.round(BernModel.predict_proba(TestDFB),2))\n"
   ]
  },
  {
   "cell_type": "code",
   "execution_count": 60,
   "metadata": {},
   "outputs": [
    {
     "name": "stdout",
     "output_type": "stream",
     "text": [
      "              precision    recall  f1-score   support\n",
      "\n",
      "           0       0.50      0.49      0.49      5691\n",
      "           1       0.49      0.49      0.49      5559\n",
      "\n",
      "    accuracy                           0.49     11250\n",
      "   macro avg       0.49      0.49      0.49     11250\n",
      "weighted avg       0.49      0.49      0.49     11250\n",
      "\n",
      "[[2788 2903]\n",
      " [2823 2736]]\n"
     ]
    }
   ],
   "source": [
    "print(metrics.classification_report(TestLabels, PredictionB))\n",
    "print(metrics.confusion_matrix(TestLabels, PredictionB))"
   ]
  },
  {
   "cell_type": "code",
   "execution_count": 61,
   "metadata": {},
   "outputs": [
    {
     "name": "stdout",
     "output_type": "stream",
     "text": [
      "('know anything', -0.8645111373153984)\n",
      "('genius', -0.9930610388740178)\n",
      "('suicide', -1.065222083944839)\n",
      "('uma', -1.0810653250753006)\n",
      "('glimpses', -1.0960214162289503)\n",
      "('skits', -1.1289786807711977)\n",
      "('victorian', -1.2451996996351316)\n",
      "('preston', -1.2687996149760057)\n",
      "('encouraged', -1.3058408866563553)\n",
      "('meeting', -1.3211646825360663)\n",
      "('fathers', -1.3243151935194764)\n",
      "('begs', -1.3827906634233713)\n",
      "('one bit', -1.4361991398321052)\n",
      "('long ago', -1.4798054582757914)\n",
      "('let say', -1.4878808722813366)\n",
      "('like know', -1.5087042906777874)\n",
      "('robbed', -1.520501790450603)\n",
      "('tunes', -1.5356242871866836)\n",
      "('kingsley', -1.538818611109586)\n",
      "('strongly recommend', -1.5665731408570016)\n",
      "\n",
      "\n",
      "\n",
      "('attract', -9.480825419599443)\n",
      "('bug', -9.480825419599443)\n",
      "('combines', -9.480825419599443)\n",
      "('versa', -9.480825419599443)\n",
      "('able get', -8.787678239039497)\n",
      "('act like', -8.787678239039497)\n",
      "('attracted', -8.787678239039497)\n",
      "('befriends', -8.787678239039497)\n",
      "('blah blah', -8.787678239039497)\n",
      "('coming', -8.787678239039497)\n",
      "('credits roll', -8.787678239039497)\n",
      "('engagement', -8.787678239039497)\n",
      "('patience', -8.787678239039497)\n",
      "('swim', -8.787678239039497)\n",
      "('time time', -8.787678239039497)\n",
      "('absolutely', -8.382213130931333)\n",
      "('acting bad', -8.382213130931333)\n",
      "('haunted house', -8.382213130931333)\n",
      "('opposite', -8.382213130931333)\n",
      "('oscar winning', -8.382213130931333)\n"
     ]
    }
   ],
   "source": [
    "# top positive and negative features \n",
    "feature_to_coef = {\n",
    "    word: coef for word, coef in zip(\n",
    "        My_CV1.get_feature_names(), BernModel.coef_[0]\n",
    "    )\n",
    "}\n",
    "\n",
    "for best_positive in sorted(\n",
    "    feature_to_coef.items(), \n",
    "    key=lambda x: x[1], \n",
    "    reverse=True)[:20]:\n",
    "    print (best_positive)\n",
    "    \n",
    "print(\"\\n\\n\")\n",
    "for best_negative in sorted(\n",
    "    feature_to_coef.items(), \n",
    "    key=lambda x: x[1])[:20]:\n",
    "    print (best_negative)"
   ]
  },
  {
   "cell_type": "markdown",
   "metadata": {},
   "source": [
    "### __MNB__"
   ]
  },
  {
   "cell_type": "markdown",
   "metadata": {},
   "source": [
    "##### __-TFIDF__"
   ]
  },
  {
   "cell_type": "code",
   "execution_count": 62,
   "metadata": {},
   "outputs": [
    {
     "name": "stdout",
     "output_type": "stream",
     "text": [
      "\n",
      "The prediction from NB is:\n",
      "['0' '1' '0' ... '0' '1' '1']\n",
      "\n",
      "The actual labels are:\n",
      "27811    0\n",
      "17891    1\n",
      "10747    1\n",
      "18179    0\n",
      "30535    0\n",
      "        ..\n",
      "5804     0\n",
      "24887    1\n",
      "23215    0\n",
      "10768    1\n",
      "31856    1\n",
      "Name: LABEL, Length: 11250, dtype: object\n"
     ]
    }
   ],
   "source": [
    "from sklearn.naive_bayes import MultinomialNB\n",
    "\n",
    "MyModelNB1= MultinomialNB()\n",
    "\n",
    "MyModelNB1.fit(TrainDF_nolabels_tf, TrainLabels_tf)\n",
    "Prediction = MyModelNB1.predict(TestDF_tf)\n",
    "print(\"\\nThe prediction from NB is:\")\n",
    "print(Prediction)\n",
    "print(\"\\nThe actual labels are:\")\n",
    "print(TestLabels_tf)"
   ]
  },
  {
   "cell_type": "code",
   "execution_count": 63,
   "metadata": {},
   "outputs": [
    {
     "name": "stdout",
     "output_type": "stream",
     "text": [
      "\n",
      "The confusion matrix is:\n",
      "[[4756  854]\n",
      " [ 722 4918]]\n"
     ]
    }
   ],
   "source": [
    "## confusion matrix\n",
    "from sklearn.metrics import confusion_matrix\n",
    "\n",
    "cnf_matrix = confusion_matrix(TestLabels_tf, Prediction)\n",
    "print(\"\\nThe confusion matrix is:\")\n",
    "print(cnf_matrix)"
   ]
  },
  {
   "cell_type": "code",
   "execution_count": 64,
   "metadata": {},
   "outputs": [
    {
     "data": {
      "image/png": "[encoded data removed]",
      "text/plain": [
       "<Figure size 864x576 with 2 Axes>"
      ]
     },
     "metadata": {},
     "output_type": "display_data"
    }
   ],
   "source": [
    "skplt.metrics.plot_confusion_matrix(TestLabels_tf, Prediction ,normalize=False,figsize=(12,8), cmap=plt.cm.PuBu)\n",
    "plt.show()"
   ]
  },
  {
   "cell_type": "code",
   "execution_count": 65,
   "metadata": {},
   "outputs": [
    {
     "name": "stdout",
     "output_type": "stream",
     "text": [
      "[[0.76 0.24]\n",
      " [0.11 0.89]\n",
      " [0.56 0.44]\n",
      " ...\n",
      " [0.83 0.17]\n",
      " [0.24 0.76]\n",
      " [0.18 0.82]]\n"
     ]
    }
   ],
   "source": [
    "print(np.round(MyModelNB1.predict_proba(TestDF_tf),2))"
   ]
  },
  {
   "cell_type": "code",
   "execution_count": 66,
   "metadata": {},
   "outputs": [
    {
     "name": "stdout",
     "output_type": "stream",
     "text": [
      "              precision    recall  f1-score   support\n",
      "\n",
      "           0       0.87      0.85      0.86      5610\n",
      "           1       0.85      0.87      0.86      5640\n",
      "\n",
      "    accuracy                           0.86     11250\n",
      "   macro avg       0.86      0.86      0.86     11250\n",
      "weighted avg       0.86      0.86      0.86     11250\n",
      "\n",
      "[[4756  854]\n",
      " [ 722 4918]]\n"
     ]
    }
   ],
   "source": [
    "from sklearn import metrics\n",
    "\n",
    "print(metrics.classification_report(TestLabels_tf, Prediction))\n",
    "print(metrics.confusion_matrix(TestLabels_tf, Prediction))"
   ]
  },
  {
   "cell_type": "markdown",
   "metadata": {},
   "source": [
    "### __SVM__"
   ]
  },
  {
   "cell_type": "markdown",
   "metadata": {},
   "source": [
    "__- CountVect__"
   ]
  },
  {
   "cell_type": "code",
   "execution_count": 67,
   "metadata": {},
   "outputs": [
    {
     "data": {
      "text/plain": [
       "LinearSVC(C=0.01, class_weight=None, dual=True, fit_intercept=True,\n",
       "          intercept_scaling=1, loss='squared_hinge', max_iter=1000,\n",
       "          multi_class='crammer_singer', penalty='l2', random_state=None,\n",
       "          tol=0.0001, verbose=0)"
      ]
     },
     "execution_count": 67,
     "metadata": {},
     "output_type": "execute_result"
    }
   ],
   "source": [
    "from sklearn.svm import LinearSVC\n",
    "\n",
    "SVM_Model1=LinearSVC(C=0.01, multi_class=\"crammer_singer\")\n",
    "SVM_Model1.fit(TrainDF_nolabels, TrainLabels)"
   ]
  },
  {
   "cell_type": "code",
   "execution_count": 68,
   "metadata": {},
   "outputs": [
    {
     "name": "stdout",
     "output_type": "stream",
     "text": [
      "SVM prediction:\n",
      " ['1' '0' '1' ... '0' '0' '0']\n",
      "Actual:\n",
      "14641    1\n",
      "3022     1\n",
      "13651    1\n",
      "3129     0\n",
      "36865    0\n",
      "        ..\n",
      "20249    0\n",
      "21718    1\n",
      "36798    0\n",
      "1587     0\n",
      "10802    0\n",
      "Name: LABEL, Length: 11250, dtype: object\n"
     ]
    }
   ],
   "source": [
    "print(\"SVM prediction:\\n\", SVM_Model1.predict(TestDF))\n",
    "print(\"Actual:\")\n",
    "print(TestLabels)"
   ]
  },
  {
   "cell_type": "code",
   "execution_count": 69,
   "metadata": {},
   "outputs": [
    {
     "name": "stdout",
     "output_type": "stream",
     "text": [
      "\n",
      "The confusion matrix is:\n",
      "[[5003  688]\n",
      " [ 569 4990]]\n",
      "\n",
      "\n",
      "\n"
     ]
    }
   ],
   "source": [
    "SVM_matrix = confusion_matrix(TestLabels, SVM_Model1.predict(TestDF))\n",
    "print(\"\\nThe confusion matrix is:\")\n",
    "print(SVM_matrix)\n",
    "print(\"\\n\\n\")"
   ]
  },
  {
   "cell_type": "code",
   "execution_count": 70,
   "metadata": {},
   "outputs": [
    {
     "data": {
      "image/png": "[encoded data removed]",
      "text/plain": [
       "<Figure size 864x576 with 2 Axes>"
      ]
     },
     "metadata": {},
     "output_type": "display_data"
    }
   ],
   "source": [
    "skplt.metrics.plot_confusion_matrix(TestLabels, SVM_Model1.predict(TestDF),normalize=False,figsize=(12,8), cmap=plt.cm.PuBu)\n",
    "plt.show()"
   ]
  },
  {
   "cell_type": "code",
   "execution_count": 71,
   "metadata": {},
   "outputs": [
    {
     "name": "stdout",
     "output_type": "stream",
     "text": [
      "              precision    recall  f1-score   support\n",
      "\n",
      "           0       0.90      0.88      0.89      5691\n",
      "           1       0.88      0.90      0.89      5559\n",
      "\n",
      "    accuracy                           0.89     11250\n",
      "   macro avg       0.89      0.89      0.89     11250\n",
      "weighted avg       0.89      0.89      0.89     11250\n",
      "\n",
      "[[5003  688]\n",
      " [ 569 4990]]\n"
     ]
    }
   ],
   "source": [
    "print(metrics.classification_report(TestLabels, SVM_Model1.predict(TestDF)))\n",
    "print(metrics.confusion_matrix(TestLabels, SVM_Model1.predict(TestDF)))"
   ]
  },
  {
   "cell_type": "code",
   "execution_count": 72,
   "metadata": {},
   "outputs": [],
   "source": [
    "import pickle\n",
    "# save the model to disk\n",
    "filename = 'SVN-BEST_model.sav'\n",
    "pickle.dump(SVM_Model1, open(filename, 'wb'))\n",
    " "
   ]
  },
  {
   "cell_type": "code",
   "execution_count": 73,
   "metadata": {},
   "outputs": [],
   "source": [
    "##------------------another kernel\n",
    "# change the df here\n",
    "TRAIN= TrainDF_nolabels\n",
    "TRAIN_Labels= TrainLabels\n",
    "TEST= TestDF\n",
    "TEST_Labels= TestLabels\n"
   ]
  },
  {
   "cell_type": "code",
   "execution_count": 74,
   "metadata": {},
   "outputs": [
    {
     "name": "stderr",
     "output_type": "stream",
     "text": [
      "C:\\Users\\aivii\\Anaconda3\\lib\\site-packages\\sklearn\\svm\\_base.py:947: ConvergenceWarning: Liblinear failed to converge, increase the number of iterations.\n",
      "  \"the number of iterations.\", ConvergenceWarning)\n"
     ]
    },
    {
     "name": "stdout",
     "output_type": "stream",
     "text": [
      "SVM prediction:\n",
      " ['0' '0' '1' ... '0' '0' '0']\n",
      "Actual:\n",
      "14641    1\n",
      "3022     1\n",
      "13651    1\n",
      "3129     0\n",
      "36865    0\n",
      "        ..\n",
      "20249    0\n",
      "21718    1\n",
      "36798    0\n",
      "1587     0\n",
      "10802    0\n",
      "Name: LABEL, Length: 11250, dtype: object\n",
      "\n",
      "The confusion matrix is:\n",
      "[[4824  867]\n",
      " [ 886 4673]]\n",
      "\n",
      "\n",
      "\n"
     ]
    },
    {
     "data": {
      "image/png": "[encoded data removed]",
      "text/plain": [
       "<Figure size 864x576 with 2 Axes>"
      ]
     },
     "metadata": {},
     "output_type": "display_data"
    },
    {
     "name": "stdout",
     "output_type": "stream",
     "text": [
      "              precision    recall  f1-score   support\n",
      "\n",
      "           0       0.84      0.85      0.85      5691\n",
      "           1       0.84      0.84      0.84      5559\n",
      "\n",
      "    accuracy                           0.84     11250\n",
      "   macro avg       0.84      0.84      0.84     11250\n",
      "weighted avg       0.84      0.84      0.84     11250\n",
      "\n",
      "[[4824  867]\n",
      " [ 886 4673]]\n"
     ]
    }
   ],
   "source": [
    "## change the kernels here \n",
    "SVM_Model1=LinearSVC(C=1)\n",
    "SVM_Model1.fit(TRAIN, TRAIN_Labels)\n",
    "\n",
    "print(\"SVM prediction:\\n\", SVM_Model1.predict(TEST))\n",
    "print(\"Actual:\")\n",
    "print(TEST_Labels)\n",
    "\n",
    "SVM_matrix = confusion_matrix(TEST_Labels, SVM_Model1.predict(TEST))\n",
    "print(\"\\nThe confusion matrix is:\")\n",
    "print(SVM_matrix)\n",
    "print(\"\\n\\n\")\n",
    "\n",
    "skplt.metrics.plot_confusion_matrix(TEST_Labels, SVM_Model1.predict(TEST) ,normalize=False,figsize=(12,8), cmap=plt.cm.PuBu)\n",
    "plt.show()\n",
    "\n",
    "print(metrics.classification_report(TEST_Labels, SVM_Model1.predict(TEST)))\n",
    "print(metrics.confusion_matrix(TEST_Labels, SVM_Model1.predict(TEST)))"
   ]
  },
  {
   "cell_type": "code",
   "execution_count": 75,
   "metadata": {},
   "outputs": [
    {
     "data": {
      "text/plain": [
       "'## RBF\\nSVM_Model2=sklearn.svm.SVC(C=0.0001, kernel=\\'rbf\\', \\n                           verbose=True, gamma=\"auto\")\\nSVM_Model2.fit(TRAIN, TRAIN_Labels)\\n\\nprint(\"SVM prediction:\\n\", SVM_Model2.predict(TEST))\\nprint(\"Actual:\")\\nprint(TEST_Labels)\\n\\nSVM_matrix = confusion_matrix(TEST_Labels, SVM_Model2.predict(TEST))\\nprint(\"\\nThe confusion matrix is:\")\\nprint(SVM_matrix)\\nprint(\"\\n\\n\")\\n\\nskplt.metrics.plot_confusion_matrix(TEST_Labels, SVM_Model2.predict(TEST) ,normalize=False,figsize=(12,8), cmap=plt.cm.PuBu)\\nplt.show()\\n\\nprint(metrics.classification_report(TEST_Labels, SVM_Model2.predict(TEST)))\\nprint(metrics.confusion_matrix(TEST_Labels, SVM_Model2.predict(TEST)))'"
      ]
     },
     "execution_count": 75,
     "metadata": {},
     "output_type": "execute_result"
    }
   ],
   "source": [
    "\"\"\"## RBF\n",
    "SVM_Model2=sklearn.svm.SVC(C=0.0001, kernel='rbf', \n",
    "                           verbose=True, gamma=\"auto\")\n",
    "SVM_Model2.fit(TRAIN, TRAIN_Labels)\n",
    "\n",
    "print(\"SVM prediction:\\n\", SVM_Model2.predict(TEST))\n",
    "print(\"Actual:\")\n",
    "print(TEST_Labels)\n",
    "\n",
    "SVM_matrix = confusion_matrix(TEST_Labels, SVM_Model2.predict(TEST))\n",
    "print(\"\\nThe confusion matrix is:\")\n",
    "print(SVM_matrix)\n",
    "print(\"\\n\\n\")\n",
    "\n",
    "skplt.metrics.plot_confusion_matrix(TEST_Labels, SVM_Model2.predict(TEST) ,normalize=False,figsize=(12,8), cmap=plt.cm.PuBu)\n",
    "plt.show()\n",
    "\n",
    "print(metrics.classification_report(TEST_Labels, SVM_Model2.predict(TEST)))\n",
    "print(metrics.confusion_matrix(TEST_Labels, SVM_Model2.predict(TEST)))\"\"\""
   ]
  },
  {
   "cell_type": "code",
   "execution_count": 76,
   "metadata": {},
   "outputs": [
    {
     "data": {
      "text/plain": [
       "'## POLY\\nSVM_Model3=sklearn.svm.SVC(C=0.0001, kernel=\\'poly\\',degree=2,\\n                           gamma=\"auto\", verbose=True)\\n\\nprint(SVM_Model3)\\nSVM_Model3.fit(TRAIN, TRAIN_Labels)\\n\\nprint(\"SVM prediction:\\n\", SVM_Model3.predict(TEST))\\nprint(\"Actual:\")\\nprint(TEST_Labels)\\n\\nSVM_matrix = confusion_matrix(TEST_Labels, SVM_Model3.predict(TEST))\\nprint(\"\\nThe confusion matrix is:\")\\nprint(SVM_matrix)\\nprint(\"\\n\\n\")\\n\\nskplt.metrics.plot_confusion_matrix(TEST_Labels, SVM_Model3.predict(TEST) ,normalize=False,figsize=(12,8), cmap=plt.cm.PuBu)\\nplt.show()\\n\\nprint(metrics.classification_report(TEST_Labels, SVM_Model3.predict(TEST)))\\nprint(metrics.confusion_matrix(TEST_Labels, SVM_Model3.predict(TEST)))'"
      ]
     },
     "execution_count": 76,
     "metadata": {},
     "output_type": "execute_result"
    }
   ],
   "source": [
    "\"\"\"## POLY\n",
    "SVM_Model3=sklearn.svm.SVC(C=0.0001, kernel='poly',degree=2,\n",
    "                           gamma=\"auto\", verbose=True)\n",
    "\n",
    "print(SVM_Model3)\n",
    "SVM_Model3.fit(TRAIN, TRAIN_Labels)\n",
    "\n",
    "print(\"SVM prediction:\\n\", SVM_Model3.predict(TEST))\n",
    "print(\"Actual:\")\n",
    "print(TEST_Labels)\n",
    "\n",
    "SVM_matrix = confusion_matrix(TEST_Labels, SVM_Model3.predict(TEST))\n",
    "print(\"\\nThe confusion matrix is:\")\n",
    "print(SVM_matrix)\n",
    "print(\"\\n\\n\")\n",
    "\n",
    "skplt.metrics.plot_confusion_matrix(TEST_Labels, SVM_Model3.predict(TEST) ,normalize=False,figsize=(12,8), cmap=plt.cm.PuBu)\n",
    "plt.show()\n",
    "\n",
    "print(metrics.classification_report(TEST_Labels, SVM_Model3.predict(TEST)))\n",
    "print(metrics.confusion_matrix(TEST_Labels, SVM_Model3.predict(TEST)))\"\"\""
   ]
  },
  {
   "cell_type": "code",
   "execution_count": 77,
   "metadata": {},
   "outputs": [
    {
     "data": {
      "image/png": "[encoded data removed]",
      "text/plain": [
       "<Figure size 1080x360 with 1 Axes>"
      ]
     },
     "metadata": {},
     "output_type": "display_data"
    }
   ],
   "source": [
    "def plot_coefficients(MODEL=SVM_Model1, COLNAMES=TrainDF_nolabels.columns, top_features=10):\n",
    "    ## Model if SVM MUST be SVC, RE: SVM_Model=LinearSVC(C=10)\n",
    "    coef = MODEL.coef_.ravel()\n",
    "    top_positive_coefficients = np.argsort(coef,axis=0)[-top_features:]\n",
    "    top_negative_coefficients = np.argsort(coef,axis=0)[:top_features]\n",
    "    top_coefficients = np.hstack([top_negative_coefficients, top_positive_coefficients])\n",
    "    # create plot\n",
    "    plt.figure(figsize=(15, 5))\n",
    "    colors = [\"#6d6875\" if c < 0 else \"#05668d\" for c in coef[top_coefficients]]\n",
    "    plt.bar(  x=  np.arange(2 * top_features)  , height=coef[top_coefficients], width=.5,  color=colors)\n",
    "    feature_names = np.array(COLNAMES)\n",
    "    plt.xticks(np.arange(0, (2*top_features)), feature_names[top_coefficients], rotation=60, ha=\"right\")\n",
    "    plt.show()\n",
    "    \n",
    "\n",
    "plot_coefficients()\n"
   ]
  },
  {
   "cell_type": "markdown",
   "metadata": {},
   "source": [
    "__- TfidfVect__"
   ]
  },
  {
   "cell_type": "code",
   "execution_count": 78,
   "metadata": {},
   "outputs": [
    {
     "data": {
      "text/plain": [
       "'feature_ranks = sorted(zip(SVM_Model1.coef_[0], My_CV1.get_feature_names()))\\n\\n## get the 10 features that are best indicators of very positivesentiment (they are at the bottom of the ranked list)\\nvery_positive_10 = feature_ranks[-10:]\\nprint(\"Very positive words\")\\nfor i in range(0, len(very_positive_10)):\\n    print(very_positive_10[i])\\nprint()\\n\\n## get 10 features that are least relevant to \"very positive\" sentiment (they are at the top of the ranked list)\\nnot_very_positive_10 = feature_ranks[:10]\\nprint(\"not very positive words\")\\nfor i in range(0, len(not_very_positive_10)):\\n    print(not_very_positive_10[i])\\nprint()'"
      ]
     },
     "execution_count": 78,
     "metadata": {},
     "output_type": "execute_result"
    }
   ],
   "source": [
    "\"\"\"feature_ranks = sorted(zip(SVM_Model1.coef_[0], My_CV1.get_feature_names()))\n",
    "\n",
    "## get the 10 features that are best indicators of very positivesentiment (they are at the bottom of the ranked list)\n",
    "very_positive_10 = feature_ranks[-10:]\n",
    "print(\"Very positive words\")\n",
    "for i in range(0, len(very_positive_10)):\n",
    "    print(very_positive_10[i])\n",
    "print()\n",
    "\n",
    "## get 10 features that are least relevant to \"very positive\" sentiment (they are at the top of the ranked list)\n",
    "not_very_positive_10 = feature_ranks[:10]\n",
    "print(\"not very positive words\")\n",
    "for i in range(0, len(not_very_positive_10)):\n",
    "    print(not_very_positive_10[i])\n",
    "print()\"\"\"\n"
   ]
  },
  {
   "cell_type": "code",
   "execution_count": 79,
   "metadata": {},
   "outputs": [],
   "source": [
    "# change the df here\n",
    "TRAIN= TrainDF_nolabels_tf\n",
    "TRAIN_Labels= TrainLabels_tf\n",
    "TEST= TestDF_tf\n",
    "TEST_Labels= TestLabels_tf\n"
   ]
  },
  {
   "cell_type": "markdown",
   "metadata": {},
   "source": [
    "#### Topic Modelling "
   ]
  },
  {
   "cell_type": "code",
   "execution_count": null,
   "metadata": {},
   "outputs": [],
   "source": []
  }
 ],
 "metadata": {
  "kernelspec": {
   "display_name": "Python 3",
   "language": "python",
   "name": "python3"
  },
  "language_info": {
   "codemirror_mode": {
    "name": "ipython",
    "version": 3
   },
   "file_extension": ".py",
   "mimetype": "text/x-python",
   "name": "python",
   "nbconvert_exporter": "python",
   "pygments_lexer": "ipython3",
   "version": "3.7.3"
  }
 },
 "nbformat": 4,
 "nbformat_minor": 4
}
